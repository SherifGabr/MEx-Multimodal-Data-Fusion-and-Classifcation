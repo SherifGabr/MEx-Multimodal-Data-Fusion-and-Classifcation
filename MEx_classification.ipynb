{
  "cells": [
    {
      "cell_type": "markdown",
      "metadata": {
        "id": "W1GHc7VdJFe6",
        "nbgrader": {
          "grade": false,
          "grade_id": "cell-708d46d3f9180abe",
          "locked": true,
          "schema_version": 3,
          "solution": false
        }
      },
      "source": [
        "# Multi-Modal Data Fusion - Project Work: Multi-Modal Physical Exercise Classification\n",
        "\n",
        "\n",
        "In this project, real multi-modal data is studied by utilizing different techniques presented during the course. In addition, there is an optional task to try some different approaches to identify persons from the same dataset. Open MEx dataset from UCI machine learning repository is used. Idea is to apply different techniques to recognize physical exercises from wearable sensors and depth camera, user-independently."
      ]
    },
    {
      "cell_type": "markdown",
      "metadata": {
        "id": "gwBQfUK0JFfB",
        "nbgrader": {
          "grade": false,
          "grade_id": "cell-32738734cf6f1a4f",
          "locked": true,
          "schema_version": 3,
          "solution": false
        }
      },
      "source": [
        "## Description \n",
        "\n",
        "The goal of this project is to develop user-independent pre-processing and classification models to recognize 7 different physical exercises measured by accelerometer (attached to subject's thigh) and depth camera (above the subject facing downwards recording an aerial view). All the exercises were performed subject lying down on the mat. Original dataset have also another acceleration sensor and pressure-sensitive mat, but those two modalities are ommited in this project. There are totally 30 subjects in the original dataset, and in this work subset of 10 person is utilized. Detailed description of the dataset and original data can be access in [MEx dataset @ UCI machine learning repository](https://archive.ics.uci.edu/ml/datasets/MEx#). \n",
        "\n",
        "The project work is divided on following phases:\n",
        "\n",
        "1. Data preparation, exploration, and visualization\n",
        "2. Feature extraction and unimodal fusion for classification\n",
        "3. Feature extraction and feature-level fusion for multimodal classification\n",
        "\n",
        "\n",
        "The results are validated using confusion matrices and F1 scores. F1 macro score is given as \n",
        "<br>\n",
        "<br>\n",
        "\n",
        "\\begin{equation}\n",
        "F1_{macro} = \\frac{1}{N} \\sum_i^N F1_i,\n",
        "\\end{equation}\n",
        "\n",
        "<br>\n"
      ]
    },
    {
      "cell_type": "markdown",
      "metadata": {
        "id": "27gNagDFJFfD",
        "nbgrader": {
          "grade": false,
          "grade_id": "cell-7e096db2d9e8c24e",
          "locked": true,
          "schema_version": 3,
          "solution": false
        }
      },
      "source": [
        "# 1. Data preparation, exploration, and visualization"
      ]
    },
    {
      "cell_type": "markdown",
      "metadata": {
        "id": "DQDbiJA-JFfE",
        "nbgrader": {
          "grade": false,
          "grade_id": "cell-bacbb8f5ae7a2e4d",
          "locked": true,
          "schema_version": 3,
          "solution": false,
          "task": false
        }
      },
      "source": [
        "<a id='task1'></a>\n",
        "<div class=\" alert alert-warning\">\n",
        "    <b>Task 1.</b>\n",
        "\n",
        "Download data from the Moodle's Project section. Get yourself familiar with the folder structure and data. You can read the data files using the function given below. Each file consists one exercise type performed by single user. Data are divided on multiple folders. Note that, in each folder there is one long sequence of single exercise, except exercise 4 which is performed two times in different ways. Those two sequences belongs to same class. Do the following subtasks to pre-analyse data examples and to prepare the training and testing data for next tasks:\n",
        "<br>\n",
        "<br> \n",
        "<p> Read raw data from the files. Prepare and divide each data file to shorter sequences using windowing method. Similar to related article \"MEx: Multi-modal Exercises Dataset for Human Activity Recognition\", use 5 second window and 3 second overlapping between windows, producing several example sequences from one exercise file for classification purposes. Windowing is working so that starting from the beginning of each long exercise sequence, take 5 seconds of data points (from synchronized acceleration data and depth images) based on the time stamps. Next, move the window 2 seconds forward and take another 5 seconds of data. Then continue this until your are at the end of sequence. Each window will consists 500x3 matrix of acceleration data and 5x192 matrix of depth image data.</p>\n",
        "<br>  \n",
        "<p> <b>1.1</b> Plot few examples of prepared data for each modalities (accelometer and depth camera). Plot acceleration sensor as multi-dimensional time-series and depth camera data as 2D image. Plot 5 second acceleration sensor and depth image sequences of person 1 and 5 performing exercises 2, 5, and 6. Take the first windowed example from the long exercise sequence. </p>\n",
        "<br>\n",
        "<p> <b>1.2</b> Split the prepared dataset to training and testing datasets so that data of persons 1-7 are used for training and data of persons 8-10 are used for testing. In next tasks, training dataset could be further divided on (multiple) validation data folds to tune the models parameters, when needed.<br>\n",
        "    \n",
        "<p> Note: Training set should have 1486 windows and testing set should have 598 windows. In training set, acceleration data will have a window without a pair with depth camera data, that window should be dropped as it doesn't have a pair.<p>\n",
        "    \n",
        "    \n",
        "    \n",
        "    \n",
        "Document your work, calculate the indicator statistics of training and testing datasets (number of examples, dimensions of each example) and visualize prepared examples.\n",
        "\n",
        "</div>"
      ]
    },
    {
      "cell_type": "code",
      "execution_count": 1,
      "metadata": {
        "colab": {
          "base_uri": "https://localhost:8080/"
        },
        "id": "PP0KxXIWJPSb",
        "outputId": "b3d20170-4bd4-4bce-a6d3-c6a91da77313"
      },
      "outputs": [
        {
          "name": "stdout",
          "output_type": "stream",
          "text": [
            "Mounted at /content/drive\n"
          ]
        }
      ],
      "source": [
        "from google.colab import drive\n",
        "drive.mount('/content/drive')"
      ]
    },
    {
      "cell_type": "code",
      "execution_count": 2,
      "metadata": {
        "id": "PU6rkOiqJFfG"
      },
      "outputs": [],
      "source": [
        "# Import relevant libraries here\n",
        "from pathlib import Path\n",
        "from copy import deepcopy\n",
        "import numpy as np\n",
        "import matplotlib.pyplot as plt\n",
        "\n",
        "import pandas as pd\n",
        "\n",
        "# Enter data folder location\n",
        "loc = \"/content/drive/MyDrive/Master's/multi/project/MEx\""
      ]
    },
    {
      "cell_type": "code",
      "execution_count": 3,
      "metadata": {
        "colab": {
          "base_uri": "https://localhost:8080/",
          "height": 497
        },
        "id": "htaB_t0OJFfI",
        "nbgrader": {
          "grade": false,
          "grade_id": "cell-5b805f4284f1480c",
          "locked": true,
          "schema_version": 3,
          "solution": false,
          "task": false
        },
        "outputId": "2fdd6a78-a33c-4b50-ac07-9b06b241516e"
      },
      "outputs": [
        {
          "name": "stdout",
          "output_type": "stream",
          "text": [
            "Total records found: 160\n",
            "Dataframe with all records:\n"
          ]
        },
        {
          "data": {
            "text/html": [
              "\n",
              "  <div id=\"df-9bf716b6-58cc-4e19-9178-97ec17ed691a\">\n",
              "    <div class=\"colab-df-container\">\n",
              "      <div>\n",
              "<style scoped>\n",
              "    .dataframe tbody tr th:only-of-type {\n",
              "        vertical-align: middle;\n",
              "    }\n",
              "\n",
              "    .dataframe tbody tr th {\n",
              "        vertical-align: top;\n",
              "    }\n",
              "\n",
              "    .dataframe thead th {\n",
              "        text-align: right;\n",
              "    }\n",
              "</style>\n",
              "<table border=\"1\" class=\"dataframe\">\n",
              "  <thead>\n",
              "    <tr style=\"text-align: right;\">\n",
              "      <th></th>\n",
              "      <th>subject_id</th>\n",
              "      <th>exercise_id</th>\n",
              "      <th>trial</th>\n",
              "      <th>sensor_code</th>\n",
              "      <th>sensor</th>\n",
              "      <th>df</th>\n",
              "    </tr>\n",
              "  </thead>\n",
              "  <tbody>\n",
              "    <tr>\n",
              "      <th>0</th>\n",
              "      <td>04</td>\n",
              "      <td>04</td>\n",
              "      <td>2</td>\n",
              "      <td>dc</td>\n",
              "      <td>dc</td>\n",
              "      <td>time    dc_0    dc_1    dc_2  ...  dc_1...</td>\n",
              "    </tr>\n",
              "    <tr>\n",
              "      <th>1</th>\n",
              "      <td>04</td>\n",
              "      <td>01</td>\n",
              "      <td>1</td>\n",
              "      <td>dc</td>\n",
              "      <td>dc</td>\n",
              "      <td>time    dc_0    dc_1    dc_2  ...  dc_1...</td>\n",
              "    </tr>\n",
              "    <tr>\n",
              "      <th>2</th>\n",
              "      <td>04</td>\n",
              "      <td>05</td>\n",
              "      <td>1</td>\n",
              "      <td>dc</td>\n",
              "      <td>dc</td>\n",
              "      <td>time    dc_0    dc_1    dc_2  ...  dc_1...</td>\n",
              "    </tr>\n",
              "    <tr>\n",
              "      <th>3</th>\n",
              "      <td>04</td>\n",
              "      <td>03</td>\n",
              "      <td>1</td>\n",
              "      <td>dc</td>\n",
              "      <td>dc</td>\n",
              "      <td>time    dc_0    dc_1    dc_2  ...  dc_1...</td>\n",
              "    </tr>\n",
              "    <tr>\n",
              "      <th>4</th>\n",
              "      <td>04</td>\n",
              "      <td>02</td>\n",
              "      <td>1</td>\n",
              "      <td>dc</td>\n",
              "      <td>dc</td>\n",
              "      <td>time    dc_0    dc_1    dc_2  ...  dc_1...</td>\n",
              "    </tr>\n",
              "  </tbody>\n",
              "</table>\n",
              "</div>\n",
              "      <button class=\"colab-df-convert\" onclick=\"convertToInteractive('df-9bf716b6-58cc-4e19-9178-97ec17ed691a')\"\n",
              "              title=\"Convert this dataframe to an interactive table.\"\n",
              "              style=\"display:none;\">\n",
              "        \n",
              "  <svg xmlns=\"http://www.w3.org/2000/svg\" height=\"24px\"viewBox=\"0 0 24 24\"\n",
              "       width=\"24px\">\n",
              "    <path d=\"M0 0h24v24H0V0z\" fill=\"none\"/>\n",
              "    <path d=\"M18.56 5.44l.94 2.06.94-2.06 2.06-.94-2.06-.94-.94-2.06-.94 2.06-2.06.94zm-11 1L8.5 8.5l.94-2.06 2.06-.94-2.06-.94L8.5 2.5l-.94 2.06-2.06.94zm10 10l.94 2.06.94-2.06 2.06-.94-2.06-.94-.94-2.06-.94 2.06-2.06.94z\"/><path d=\"M17.41 7.96l-1.37-1.37c-.4-.4-.92-.59-1.43-.59-.52 0-1.04.2-1.43.59L10.3 9.45l-7.72 7.72c-.78.78-.78 2.05 0 2.83L4 21.41c.39.39.9.59 1.41.59.51 0 1.02-.2 1.41-.59l7.78-7.78 2.81-2.81c.8-.78.8-2.07 0-2.86zM5.41 20L4 18.59l7.72-7.72 1.47 1.35L5.41 20z\"/>\n",
              "  </svg>\n",
              "      </button>\n",
              "      \n",
              "  <style>\n",
              "    .colab-df-container {\n",
              "      display:flex;\n",
              "      flex-wrap:wrap;\n",
              "      gap: 12px;\n",
              "    }\n",
              "\n",
              "    .colab-df-convert {\n",
              "      background-color: #E8F0FE;\n",
              "      border: none;\n",
              "      border-radius: 50%;\n",
              "      cursor: pointer;\n",
              "      display: none;\n",
              "      fill: #1967D2;\n",
              "      height: 32px;\n",
              "      padding: 0 0 0 0;\n",
              "      width: 32px;\n",
              "    }\n",
              "\n",
              "    .colab-df-convert:hover {\n",
              "      background-color: #E2EBFA;\n",
              "      box-shadow: 0px 1px 2px rgba(60, 64, 67, 0.3), 0px 1px 3px 1px rgba(60, 64, 67, 0.15);\n",
              "      fill: #174EA6;\n",
              "    }\n",
              "\n",
              "    [theme=dark] .colab-df-convert {\n",
              "      background-color: #3B4455;\n",
              "      fill: #D2E3FC;\n",
              "    }\n",
              "\n",
              "    [theme=dark] .colab-df-convert:hover {\n",
              "      background-color: #434B5C;\n",
              "      box-shadow: 0px 1px 3px 1px rgba(0, 0, 0, 0.15);\n",
              "      filter: drop-shadow(0px 1px 2px rgba(0, 0, 0, 0.3));\n",
              "      fill: #FFFFFF;\n",
              "    }\n",
              "  </style>\n",
              "\n",
              "      <script>\n",
              "        const buttonEl =\n",
              "          document.querySelector('#df-9bf716b6-58cc-4e19-9178-97ec17ed691a button.colab-df-convert');\n",
              "        buttonEl.style.display =\n",
              "          google.colab.kernel.accessAllowed ? 'block' : 'none';\n",
              "\n",
              "        async function convertToInteractive(key) {\n",
              "          const element = document.querySelector('#df-9bf716b6-58cc-4e19-9178-97ec17ed691a');\n",
              "          const dataTable =\n",
              "            await google.colab.kernel.invokeFunction('convertToInteractive',\n",
              "                                                     [key], {});\n",
              "          if (!dataTable) return;\n",
              "\n",
              "          const docLinkHtml = 'Like what you see? Visit the ' +\n",
              "            '<a target=\"_blank\" href=https://colab.research.google.com/notebooks/data_table.ipynb>data table notebook</a>'\n",
              "            + ' to learn more about interactive tables.';\n",
              "          element.innerHTML = '';\n",
              "          dataTable['output_type'] = 'display_data';\n",
              "          await google.colab.output.renderOutput(dataTable, element);\n",
              "          const docLink = document.createElement('div');\n",
              "          docLink.innerHTML = docLinkHtml;\n",
              "          element.appendChild(docLink);\n",
              "        }\n",
              "      </script>\n",
              "    </div>\n",
              "  </div>\n",
              "  "
            ],
            "text/plain": [
              "  subject_id  ...                                                 df\n",
              "0         04  ...         time    dc_0    dc_1    dc_2  ...  dc_1...\n",
              "1         04  ...         time    dc_0    dc_1    dc_2  ...  dc_1...\n",
              "2         04  ...         time    dc_0    dc_1    dc_2  ...  dc_1...\n",
              "3         04  ...         time    dc_0    dc_1    dc_2  ...  dc_1...\n",
              "4         04  ...         time    dc_0    dc_1    dc_2  ...  dc_1...\n",
              "\n",
              "[5 rows x 6 columns]"
            ]
          },
          "metadata": {},
          "output_type": "display_data"
        },
        {
          "name": "stdout",
          "output_type": "stream",
          "text": [
            "Dataframe with one measurement series:\n"
          ]
        },
        {
          "data": {
            "text/html": [
              "\n",
              "  <div id=\"df-51336870-aef0-41a6-820a-4ec5d67854b8\">\n",
              "    <div class=\"colab-df-container\">\n",
              "      <div>\n",
              "<style scoped>\n",
              "    .dataframe tbody tr th:only-of-type {\n",
              "        vertical-align: middle;\n",
              "    }\n",
              "\n",
              "    .dataframe tbody tr th {\n",
              "        vertical-align: top;\n",
              "    }\n",
              "\n",
              "    .dataframe thead th {\n",
              "        text-align: right;\n",
              "    }\n",
              "</style>\n",
              "<table border=\"1\" class=\"dataframe\">\n",
              "  <thead>\n",
              "    <tr style=\"text-align: right;\">\n",
              "      <th></th>\n",
              "      <th>time</th>\n",
              "      <th>dc_0</th>\n",
              "      <th>dc_1</th>\n",
              "      <th>dc_2</th>\n",
              "      <th>dc_3</th>\n",
              "      <th>dc_4</th>\n",
              "      <th>dc_5</th>\n",
              "      <th>dc_6</th>\n",
              "      <th>dc_7</th>\n",
              "      <th>dc_8</th>\n",
              "      <th>dc_9</th>\n",
              "      <th>dc_10</th>\n",
              "      <th>dc_11</th>\n",
              "      <th>dc_12</th>\n",
              "      <th>dc_13</th>\n",
              "      <th>dc_14</th>\n",
              "      <th>dc_15</th>\n",
              "      <th>dc_16</th>\n",
              "      <th>dc_17</th>\n",
              "      <th>dc_18</th>\n",
              "      <th>dc_19</th>\n",
              "      <th>dc_20</th>\n",
              "      <th>dc_21</th>\n",
              "      <th>dc_22</th>\n",
              "      <th>dc_23</th>\n",
              "      <th>dc_24</th>\n",
              "      <th>dc_25</th>\n",
              "      <th>dc_26</th>\n",
              "      <th>dc_27</th>\n",
              "      <th>dc_28</th>\n",
              "      <th>dc_29</th>\n",
              "      <th>dc_30</th>\n",
              "      <th>dc_31</th>\n",
              "      <th>dc_32</th>\n",
              "      <th>dc_33</th>\n",
              "      <th>dc_34</th>\n",
              "      <th>dc_35</th>\n",
              "      <th>dc_36</th>\n",
              "      <th>dc_37</th>\n",
              "      <th>dc_38</th>\n",
              "      <th>...</th>\n",
              "      <th>dc_152</th>\n",
              "      <th>dc_153</th>\n",
              "      <th>dc_154</th>\n",
              "      <th>dc_155</th>\n",
              "      <th>dc_156</th>\n",
              "      <th>dc_157</th>\n",
              "      <th>dc_158</th>\n",
              "      <th>dc_159</th>\n",
              "      <th>dc_160</th>\n",
              "      <th>dc_161</th>\n",
              "      <th>dc_162</th>\n",
              "      <th>dc_163</th>\n",
              "      <th>dc_164</th>\n",
              "      <th>dc_165</th>\n",
              "      <th>dc_166</th>\n",
              "      <th>dc_167</th>\n",
              "      <th>dc_168</th>\n",
              "      <th>dc_169</th>\n",
              "      <th>dc_170</th>\n",
              "      <th>dc_171</th>\n",
              "      <th>dc_172</th>\n",
              "      <th>dc_173</th>\n",
              "      <th>dc_174</th>\n",
              "      <th>dc_175</th>\n",
              "      <th>dc_176</th>\n",
              "      <th>dc_177</th>\n",
              "      <th>dc_178</th>\n",
              "      <th>dc_179</th>\n",
              "      <th>dc_180</th>\n",
              "      <th>dc_181</th>\n",
              "      <th>dc_182</th>\n",
              "      <th>dc_183</th>\n",
              "      <th>dc_184</th>\n",
              "      <th>dc_185</th>\n",
              "      <th>dc_186</th>\n",
              "      <th>dc_187</th>\n",
              "      <th>dc_188</th>\n",
              "      <th>dc_189</th>\n",
              "      <th>dc_190</th>\n",
              "      <th>dc_191</th>\n",
              "    </tr>\n",
              "  </thead>\n",
              "  <tbody>\n",
              "    <tr>\n",
              "      <th>0</th>\n",
              "      <td>0.0</td>\n",
              "      <td>0.4497</td>\n",
              "      <td>0.9181</td>\n",
              "      <td>0.9111</td>\n",
              "      <td>0.915</td>\n",
              "      <td>0.9244</td>\n",
              "      <td>0.9189</td>\n",
              "      <td>0.914</td>\n",
              "      <td>0.9105</td>\n",
              "      <td>0.9088</td>\n",
              "      <td>0.9025</td>\n",
              "      <td>0.8994</td>\n",
              "      <td>0.8939</td>\n",
              "      <td>0.8884</td>\n",
              "      <td>0.8846</td>\n",
              "      <td>0.8846</td>\n",
              "      <td>0.8799</td>\n",
              "      <td>0.4435</td>\n",
              "      <td>0.9121</td>\n",
              "      <td>0.9306</td>\n",
              "      <td>0.9306</td>\n",
              "      <td>0.9283</td>\n",
              "      <td>0.9244</td>\n",
              "      <td>0.9056</td>\n",
              "      <td>0.9131</td>\n",
              "      <td>0.9094</td>\n",
              "      <td>0.9088</td>\n",
              "      <td>0.9025</td>\n",
              "      <td>0.8994</td>\n",
              "      <td>0.8963</td>\n",
              "      <td>0.8884</td>\n",
              "      <td>0.8846</td>\n",
              "      <td>0.8814</td>\n",
              "      <td>0.4429</td>\n",
              "      <td>0.9100</td>\n",
              "      <td>0.9337</td>\n",
              "      <td>0.9290</td>\n",
              "      <td>0.9244</td>\n",
              "      <td>0.9212</td>\n",
              "      <td>0.9165</td>\n",
              "      <td>...</td>\n",
              "      <td>0.7110</td>\n",
              "      <td>0.7001</td>\n",
              "      <td>0.7149</td>\n",
              "      <td>0.7325</td>\n",
              "      <td>0.9244</td>\n",
              "      <td>0.9244</td>\n",
              "      <td>0.9181</td>\n",
              "      <td>0.9121</td>\n",
              "      <td>0.4936</td>\n",
              "      <td>0.9782</td>\n",
              "      <td>0.9751</td>\n",
              "      <td>0.9680</td>\n",
              "      <td>0.9641</td>\n",
              "      <td>0.961</td>\n",
              "      <td>0.9555</td>\n",
              "      <td>0.9501</td>\n",
              "      <td>0.947</td>\n",
              "      <td>0.7079</td>\n",
              "      <td>0.7276</td>\n",
              "      <td>0.2326</td>\n",
              "      <td>0.9322</td>\n",
              "      <td>0.9244</td>\n",
              "      <td>0.9236</td>\n",
              "      <td>0.9165</td>\n",
              "      <td>0.4945</td>\n",
              "      <td>0.9829</td>\n",
              "      <td>0.9751</td>\n",
              "      <td>0.9751</td>\n",
              "      <td>0.9704</td>\n",
              "      <td>0.961</td>\n",
              "      <td>0.961</td>\n",
              "      <td>0.954</td>\n",
              "      <td>0.9501</td>\n",
              "      <td>0.947</td>\n",
              "      <td>0.9415</td>\n",
              "      <td>0.9368</td>\n",
              "      <td>0.9337</td>\n",
              "      <td>0.9306</td>\n",
              "      <td>0.9228</td>\n",
              "      <td>0.9220</td>\n",
              "    </tr>\n",
              "    <tr>\n",
              "      <th>1</th>\n",
              "      <td>1000.0</td>\n",
              "      <td>0.4497</td>\n",
              "      <td>0.9181</td>\n",
              "      <td>0.9111</td>\n",
              "      <td>0.915</td>\n",
              "      <td>0.9212</td>\n",
              "      <td>0.9181</td>\n",
              "      <td>0.914</td>\n",
              "      <td>0.9111</td>\n",
              "      <td>0.9088</td>\n",
              "      <td>0.9025</td>\n",
              "      <td>0.8994</td>\n",
              "      <td>0.8931</td>\n",
              "      <td>0.8884</td>\n",
              "      <td>0.8846</td>\n",
              "      <td>0.8814</td>\n",
              "      <td>0.8806</td>\n",
              "      <td>0.4435</td>\n",
              "      <td>0.9121</td>\n",
              "      <td>0.9306</td>\n",
              "      <td>0.9306</td>\n",
              "      <td>0.9283</td>\n",
              "      <td>0.9244</td>\n",
              "      <td>0.9064</td>\n",
              "      <td>0.9121</td>\n",
              "      <td>0.9100</td>\n",
              "      <td>0.9080</td>\n",
              "      <td>0.9025</td>\n",
              "      <td>0.8994</td>\n",
              "      <td>0.8963</td>\n",
              "      <td>0.8869</td>\n",
              "      <td>0.8846</td>\n",
              "      <td>0.8814</td>\n",
              "      <td>0.4435</td>\n",
              "      <td>0.9100</td>\n",
              "      <td>0.9337</td>\n",
              "      <td>0.9275</td>\n",
              "      <td>0.9244</td>\n",
              "      <td>0.9212</td>\n",
              "      <td>0.9173</td>\n",
              "      <td>...</td>\n",
              "      <td>0.6644</td>\n",
              "      <td>0.6389</td>\n",
              "      <td>0.6377</td>\n",
              "      <td>0.6482</td>\n",
              "      <td>0.0000</td>\n",
              "      <td>0.9244</td>\n",
              "      <td>0.9181</td>\n",
              "      <td>0.9150</td>\n",
              "      <td>0.4945</td>\n",
              "      <td>0.9782</td>\n",
              "      <td>0.9751</td>\n",
              "      <td>0.9688</td>\n",
              "      <td>0.9641</td>\n",
              "      <td>0.961</td>\n",
              "      <td>0.9555</td>\n",
              "      <td>0.9501</td>\n",
              "      <td>0.947</td>\n",
              "      <td>0.9447</td>\n",
              "      <td>0.6404</td>\n",
              "      <td>0.6459</td>\n",
              "      <td>0.9306</td>\n",
              "      <td>0.9267</td>\n",
              "      <td>0.9244</td>\n",
              "      <td>0.9165</td>\n",
              "      <td>0.4945</td>\n",
              "      <td>0.9821</td>\n",
              "      <td>0.9751</td>\n",
              "      <td>0.9751</td>\n",
              "      <td>0.9704</td>\n",
              "      <td>0.961</td>\n",
              "      <td>0.961</td>\n",
              "      <td>0.954</td>\n",
              "      <td>0.9501</td>\n",
              "      <td>0.947</td>\n",
              "      <td>0.9431</td>\n",
              "      <td>0.9368</td>\n",
              "      <td>0.9337</td>\n",
              "      <td>0.9306</td>\n",
              "      <td>0.9244</td>\n",
              "      <td>0.9236</td>\n",
              "    </tr>\n",
              "    <tr>\n",
              "      <th>2</th>\n",
              "      <td>2000.0</td>\n",
              "      <td>0.4497</td>\n",
              "      <td>0.9173</td>\n",
              "      <td>0.9111</td>\n",
              "      <td>0.915</td>\n",
              "      <td>0.9220</td>\n",
              "      <td>0.9197</td>\n",
              "      <td>0.914</td>\n",
              "      <td>0.9111</td>\n",
              "      <td>0.9088</td>\n",
              "      <td>0.9025</td>\n",
              "      <td>0.8994</td>\n",
              "      <td>0.8931</td>\n",
              "      <td>0.8884</td>\n",
              "      <td>0.8838</td>\n",
              "      <td>0.8814</td>\n",
              "      <td>0.8814</td>\n",
              "      <td>0.4435</td>\n",
              "      <td>0.9121</td>\n",
              "      <td>0.9306</td>\n",
              "      <td>0.9306</td>\n",
              "      <td>0.9298</td>\n",
              "      <td>0.9220</td>\n",
              "      <td>0.9072</td>\n",
              "      <td>0.9121</td>\n",
              "      <td>0.9100</td>\n",
              "      <td>0.9080</td>\n",
              "      <td>0.9025</td>\n",
              "      <td>0.8994</td>\n",
              "      <td>0.4830</td>\n",
              "      <td>0.6667</td>\n",
              "      <td>0.8846</td>\n",
              "      <td>0.8814</td>\n",
              "      <td>0.4423</td>\n",
              "      <td>0.9100</td>\n",
              "      <td>0.9329</td>\n",
              "      <td>0.9306</td>\n",
              "      <td>0.7270</td>\n",
              "      <td>0.3491</td>\n",
              "      <td>0.6732</td>\n",
              "      <td>...</td>\n",
              "      <td>0.9439</td>\n",
              "      <td>0.8083</td>\n",
              "      <td>0.8089</td>\n",
              "      <td>0.9306</td>\n",
              "      <td>0.9244</td>\n",
              "      <td>0.9244</td>\n",
              "      <td>0.9181</td>\n",
              "      <td>0.9150</td>\n",
              "      <td>0.4926</td>\n",
              "      <td>0.9782</td>\n",
              "      <td>0.9751</td>\n",
              "      <td>0.9696</td>\n",
              "      <td>0.9641</td>\n",
              "      <td>0.961</td>\n",
              "      <td>0.9555</td>\n",
              "      <td>0.9501</td>\n",
              "      <td>0.947</td>\n",
              "      <td>0.9439</td>\n",
              "      <td>0.7026</td>\n",
              "      <td>0.9337</td>\n",
              "      <td>0.9306</td>\n",
              "      <td>0.9260</td>\n",
              "      <td>0.9244</td>\n",
              "      <td>0.9165</td>\n",
              "      <td>0.4945</td>\n",
              "      <td>0.9836</td>\n",
              "      <td>0.9751</td>\n",
              "      <td>0.9751</td>\n",
              "      <td>0.9704</td>\n",
              "      <td>0.961</td>\n",
              "      <td>0.961</td>\n",
              "      <td>0.954</td>\n",
              "      <td>0.9501</td>\n",
              "      <td>0.947</td>\n",
              "      <td>0.9431</td>\n",
              "      <td>0.9368</td>\n",
              "      <td>0.9337</td>\n",
              "      <td>0.9314</td>\n",
              "      <td>0.9220</td>\n",
              "      <td>0.9220</td>\n",
              "    </tr>\n",
              "    <tr>\n",
              "      <th>3</th>\n",
              "      <td>3000.0</td>\n",
              "      <td>0.4497</td>\n",
              "      <td>0.9197</td>\n",
              "      <td>0.9111</td>\n",
              "      <td>0.915</td>\n",
              "      <td>0.9212</td>\n",
              "      <td>0.9189</td>\n",
              "      <td>0.914</td>\n",
              "      <td>0.9111</td>\n",
              "      <td>0.9088</td>\n",
              "      <td>0.9025</td>\n",
              "      <td>0.8994</td>\n",
              "      <td>0.8939</td>\n",
              "      <td>0.4435</td>\n",
              "      <td>0.8822</td>\n",
              "      <td>0.8814</td>\n",
              "      <td>0.8814</td>\n",
              "      <td>0.4429</td>\n",
              "      <td>0.9131</td>\n",
              "      <td>0.9306</td>\n",
              "      <td>0.9283</td>\n",
              "      <td>0.9298</td>\n",
              "      <td>0.9220</td>\n",
              "      <td>0.9064</td>\n",
              "      <td>0.9131</td>\n",
              "      <td>0.9111</td>\n",
              "      <td>0.5378</td>\n",
              "      <td>0.5021</td>\n",
              "      <td>0.4772</td>\n",
              "      <td>0.4618</td>\n",
              "      <td>0.4629</td>\n",
              "      <td>0.0000</td>\n",
              "      <td>0.8814</td>\n",
              "      <td>0.4423</td>\n",
              "      <td>0.9111</td>\n",
              "      <td>0.9329</td>\n",
              "      <td>0.9298</td>\n",
              "      <td>0.7227</td>\n",
              "      <td>0.6993</td>\n",
              "      <td>0.6759</td>\n",
              "      <td>...</td>\n",
              "      <td>0.9439</td>\n",
              "      <td>0.8031</td>\n",
              "      <td>0.8060</td>\n",
              "      <td>0.9306</td>\n",
              "      <td>0.9260</td>\n",
              "      <td>0.9244</td>\n",
              "      <td>0.9197</td>\n",
              "      <td>0.9140</td>\n",
              "      <td>0.4926</td>\n",
              "      <td>0.9782</td>\n",
              "      <td>0.9751</td>\n",
              "      <td>0.9688</td>\n",
              "      <td>0.9641</td>\n",
              "      <td>0.961</td>\n",
              "      <td>0.9555</td>\n",
              "      <td>0.9501</td>\n",
              "      <td>0.947</td>\n",
              "      <td>0.9439</td>\n",
              "      <td>0.9360</td>\n",
              "      <td>0.9337</td>\n",
              "      <td>0.9322</td>\n",
              "      <td>0.9252</td>\n",
              "      <td>0.9236</td>\n",
              "      <td>0.9165</td>\n",
              "      <td>0.4945</td>\n",
              "      <td>0.9821</td>\n",
              "      <td>0.9751</td>\n",
              "      <td>0.9751</td>\n",
              "      <td>0.9704</td>\n",
              "      <td>0.961</td>\n",
              "      <td>0.961</td>\n",
              "      <td>0.954</td>\n",
              "      <td>0.9501</td>\n",
              "      <td>0.947</td>\n",
              "      <td>0.9415</td>\n",
              "      <td>0.9368</td>\n",
              "      <td>0.9337</td>\n",
              "      <td>0.9306</td>\n",
              "      <td>0.9236</td>\n",
              "      <td>0.9236</td>\n",
              "    </tr>\n",
              "    <tr>\n",
              "      <th>4</th>\n",
              "      <td>4000.0</td>\n",
              "      <td>0.4497</td>\n",
              "      <td>0.9181</td>\n",
              "      <td>0.9111</td>\n",
              "      <td>0.915</td>\n",
              "      <td>0.9212</td>\n",
              "      <td>0.9181</td>\n",
              "      <td>0.914</td>\n",
              "      <td>0.9111</td>\n",
              "      <td>0.9088</td>\n",
              "      <td>0.9025</td>\n",
              "      <td>0.9017</td>\n",
              "      <td>0.8939</td>\n",
              "      <td>0.8884</td>\n",
              "      <td>0.8846</td>\n",
              "      <td>0.8814</td>\n",
              "      <td>0.8799</td>\n",
              "      <td>0.4435</td>\n",
              "      <td>0.9115</td>\n",
              "      <td>0.9306</td>\n",
              "      <td>0.9298</td>\n",
              "      <td>0.9298</td>\n",
              "      <td>0.9244</td>\n",
              "      <td>0.9072</td>\n",
              "      <td>0.9131</td>\n",
              "      <td>0.9105</td>\n",
              "      <td>0.9088</td>\n",
              "      <td>0.9025</td>\n",
              "      <td>0.8994</td>\n",
              "      <td>0.8963</td>\n",
              "      <td>0.8869</td>\n",
              "      <td>0.8838</td>\n",
              "      <td>0.8814</td>\n",
              "      <td>0.4423</td>\n",
              "      <td>0.9100</td>\n",
              "      <td>0.9329</td>\n",
              "      <td>0.9275</td>\n",
              "      <td>0.9244</td>\n",
              "      <td>0.9212</td>\n",
              "      <td>0.9165</td>\n",
              "      <td>...</td>\n",
              "      <td>0.9447</td>\n",
              "      <td>0.6040</td>\n",
              "      <td>0.5757</td>\n",
              "      <td>0.5734</td>\n",
              "      <td>0.1517</td>\n",
              "      <td>0.9244</td>\n",
              "      <td>0.9181</td>\n",
              "      <td>0.9121</td>\n",
              "      <td>0.4918</td>\n",
              "      <td>0.9782</td>\n",
              "      <td>0.9751</td>\n",
              "      <td>0.9680</td>\n",
              "      <td>0.9641</td>\n",
              "      <td>0.961</td>\n",
              "      <td>0.9555</td>\n",
              "      <td>0.9493</td>\n",
              "      <td>0.947</td>\n",
              "      <td>0.9439</td>\n",
              "      <td>0.6034</td>\n",
              "      <td>0.5913</td>\n",
              "      <td>0.9314</td>\n",
              "      <td>0.9260</td>\n",
              "      <td>0.9244</td>\n",
              "      <td>0.9165</td>\n",
              "      <td>0.4945</td>\n",
              "      <td>0.9821</td>\n",
              "      <td>0.9751</td>\n",
              "      <td>0.9751</td>\n",
              "      <td>0.9704</td>\n",
              "      <td>0.961</td>\n",
              "      <td>0.961</td>\n",
              "      <td>0.954</td>\n",
              "      <td>0.9501</td>\n",
              "      <td>0.947</td>\n",
              "      <td>0.9423</td>\n",
              "      <td>0.9368</td>\n",
              "      <td>0.9337</td>\n",
              "      <td>0.9306</td>\n",
              "      <td>0.9228</td>\n",
              "      <td>0.9220</td>\n",
              "    </tr>\n",
              "  </tbody>\n",
              "</table>\n",
              "<p>5 rows × 193 columns</p>\n",
              "</div>\n",
              "      <button class=\"colab-df-convert\" onclick=\"convertToInteractive('df-51336870-aef0-41a6-820a-4ec5d67854b8')\"\n",
              "              title=\"Convert this dataframe to an interactive table.\"\n",
              "              style=\"display:none;\">\n",
              "        \n",
              "  <svg xmlns=\"http://www.w3.org/2000/svg\" height=\"24px\"viewBox=\"0 0 24 24\"\n",
              "       width=\"24px\">\n",
              "    <path d=\"M0 0h24v24H0V0z\" fill=\"none\"/>\n",
              "    <path d=\"M18.56 5.44l.94 2.06.94-2.06 2.06-.94-2.06-.94-.94-2.06-.94 2.06-2.06.94zm-11 1L8.5 8.5l.94-2.06 2.06-.94-2.06-.94L8.5 2.5l-.94 2.06-2.06.94zm10 10l.94 2.06.94-2.06 2.06-.94-2.06-.94-.94-2.06-.94 2.06-2.06.94z\"/><path d=\"M17.41 7.96l-1.37-1.37c-.4-.4-.92-.59-1.43-.59-.52 0-1.04.2-1.43.59L10.3 9.45l-7.72 7.72c-.78.78-.78 2.05 0 2.83L4 21.41c.39.39.9.59 1.41.59.51 0 1.02-.2 1.41-.59l7.78-7.78 2.81-2.81c.8-.78.8-2.07 0-2.86zM5.41 20L4 18.59l7.72-7.72 1.47 1.35L5.41 20z\"/>\n",
              "  </svg>\n",
              "      </button>\n",
              "      \n",
              "  <style>\n",
              "    .colab-df-container {\n",
              "      display:flex;\n",
              "      flex-wrap:wrap;\n",
              "      gap: 12px;\n",
              "    }\n",
              "\n",
              "    .colab-df-convert {\n",
              "      background-color: #E8F0FE;\n",
              "      border: none;\n",
              "      border-radius: 50%;\n",
              "      cursor: pointer;\n",
              "      display: none;\n",
              "      fill: #1967D2;\n",
              "      height: 32px;\n",
              "      padding: 0 0 0 0;\n",
              "      width: 32px;\n",
              "    }\n",
              "\n",
              "    .colab-df-convert:hover {\n",
              "      background-color: #E2EBFA;\n",
              "      box-shadow: 0px 1px 2px rgba(60, 64, 67, 0.3), 0px 1px 3px 1px rgba(60, 64, 67, 0.15);\n",
              "      fill: #174EA6;\n",
              "    }\n",
              "\n",
              "    [theme=dark] .colab-df-convert {\n",
              "      background-color: #3B4455;\n",
              "      fill: #D2E3FC;\n",
              "    }\n",
              "\n",
              "    [theme=dark] .colab-df-convert:hover {\n",
              "      background-color: #434B5C;\n",
              "      box-shadow: 0px 1px 3px 1px rgba(0, 0, 0, 0.15);\n",
              "      filter: drop-shadow(0px 1px 2px rgba(0, 0, 0, 0.3));\n",
              "      fill: #FFFFFF;\n",
              "    }\n",
              "  </style>\n",
              "\n",
              "      <script>\n",
              "        const buttonEl =\n",
              "          document.querySelector('#df-51336870-aef0-41a6-820a-4ec5d67854b8 button.colab-df-convert');\n",
              "        buttonEl.style.display =\n",
              "          google.colab.kernel.accessAllowed ? 'block' : 'none';\n",
              "\n",
              "        async function convertToInteractive(key) {\n",
              "          const element = document.querySelector('#df-51336870-aef0-41a6-820a-4ec5d67854b8');\n",
              "          const dataTable =\n",
              "            await google.colab.kernel.invokeFunction('convertToInteractive',\n",
              "                                                     [key], {});\n",
              "          if (!dataTable) return;\n",
              "\n",
              "          const docLinkHtml = 'Like what you see? Visit the ' +\n",
              "            '<a target=\"_blank\" href=https://colab.research.google.com/notebooks/data_table.ipynb>data table notebook</a>'\n",
              "            + ' to learn more about interactive tables.';\n",
              "          element.innerHTML = '';\n",
              "          dataTable['output_type'] = 'display_data';\n",
              "          await google.colab.output.renderOutput(dataTable, element);\n",
              "          const docLink = document.createElement('div');\n",
              "          docLink.innerHTML = docLinkHtml;\n",
              "          element.appendChild(docLink);\n",
              "        }\n",
              "      </script>\n",
              "    </div>\n",
              "  </div>\n",
              "  "
            ],
            "text/plain": [
              "     time    dc_0    dc_1    dc_2  ...  dc_188  dc_189  dc_190  dc_191\n",
              "0     0.0  0.4497  0.9181  0.9111  ...  0.9337  0.9306  0.9228  0.9220\n",
              "1  1000.0  0.4497  0.9181  0.9111  ...  0.9337  0.9306  0.9244  0.9236\n",
              "2  2000.0  0.4497  0.9173  0.9111  ...  0.9337  0.9314  0.9220  0.9220\n",
              "3  3000.0  0.4497  0.9197  0.9111  ...  0.9337  0.9306  0.9236  0.9236\n",
              "4  4000.0  0.4497  0.9181  0.9111  ...  0.9337  0.9306  0.9228  0.9220\n",
              "\n",
              "[5 rows x 193 columns]"
            ]
          },
          "metadata": {},
          "output_type": "display_data"
        }
      ],
      "source": [
        "def path_to_meta(p):\n",
        "    meta = dict()\n",
        "    meta[\"subject_id\"] = p.parent.stem\n",
        "    meta[\"exercise_id\"] = p.stem.split(\"_\")[-2]\n",
        "    meta[\"trial\"] = int(p.stem.split(\"_\")[-1])\n",
        "    meta[\"sensor_code\"] = p.stem.split(\"_\")[0]\n",
        "    meta[\"sensor\"] = {\"act\": \"acc\", \"dc\": \"dc\"}[meta[\"sensor_code\"]]\n",
        "    return meta\n",
        "\n",
        "# Find, read, and compose the measurements\n",
        "paths_record = Path(loc).glob(\"*/*/*.csv\")\n",
        "\n",
        "records = []\n",
        "\n",
        "for path_record in paths_record:\n",
        "    df = pd.read_csv(path_record, delimiter=\",\", header=None)\n",
        "    meta = path_to_meta(path_record)\n",
        "    \n",
        "    if meta[\"sensor\"] == \"acc\":\n",
        "        col_names = [\"time\", \"acc_0\", \"acc_1\", \"acc_2\"]\n",
        "        df.columns = col_names\n",
        "    else:\n",
        "        num_cols = df.shape[1]\n",
        "        col_names = [\"time\", ] + [f\"dc_{i}\" for i in range(num_cols-1)]\n",
        "        df.columns = col_names\n",
        "\n",
        "    meta[\"df\"] = df\n",
        "    \n",
        "    records.append(meta)\n",
        "\n",
        "df_records = pd.DataFrame.from_records(records)\n",
        "\n",
        "print(f\"Total records found: {len(df_records)}\")\n",
        "print(\"Dataframe with all records:\")\n",
        "display(df_records.head())\n",
        "print(\"Dataframe with one measurement series:\")\n",
        "display(df_records[\"df\"].iloc[0].head())"
      ]
    },
    {
      "cell_type": "code",
      "execution_count": 4,
      "metadata": {
        "colab": {
          "base_uri": "https://localhost:8080/",
          "height": 497
        },
        "id": "t0gFOi23JFfL",
        "nbgrader": {
          "grade": false,
          "grade_id": "cell-e8aebacdeb29d491",
          "locked": true,
          "schema_version": 3,
          "solution": false,
          "task": false
        },
        "outputId": "bb88d0ca-dbf0-4334-932a-51afff803208"
      },
      "outputs": [
        {
          "name": "stdout",
          "output_type": "stream",
          "text": [
            "Total windows extracted: 4169\n",
            "Dataframe with all windowed records:\n"
          ]
        },
        {
          "data": {
            "text/html": [
              "\n",
              "  <div id=\"df-9d28757c-1651-46c1-a610-40e5214b3651\">\n",
              "    <div class=\"colab-df-container\">\n",
              "      <div>\n",
              "<style scoped>\n",
              "    .dataframe tbody tr th:only-of-type {\n",
              "        vertical-align: middle;\n",
              "    }\n",
              "\n",
              "    .dataframe tbody tr th {\n",
              "        vertical-align: top;\n",
              "    }\n",
              "\n",
              "    .dataframe thead th {\n",
              "        text-align: right;\n",
              "    }\n",
              "</style>\n",
              "<table border=\"1\" class=\"dataframe\">\n",
              "  <thead>\n",
              "    <tr style=\"text-align: right;\">\n",
              "      <th></th>\n",
              "      <th>subject_id</th>\n",
              "      <th>exercise_id</th>\n",
              "      <th>trial</th>\n",
              "      <th>sensor_code</th>\n",
              "      <th>sensor</th>\n",
              "      <th>df</th>\n",
              "      <th>window_idx</th>\n",
              "    </tr>\n",
              "  </thead>\n",
              "  <tbody>\n",
              "    <tr>\n",
              "      <th>0</th>\n",
              "      <td>04</td>\n",
              "      <td>04</td>\n",
              "      <td>2</td>\n",
              "      <td>dc</td>\n",
              "      <td>dc</td>\n",
              "      <td>time    dc_0    dc_1    dc_2  ...  dc_188...</td>\n",
              "      <td>0</td>\n",
              "    </tr>\n",
              "    <tr>\n",
              "      <th>1</th>\n",
              "      <td>04</td>\n",
              "      <td>04</td>\n",
              "      <td>2</td>\n",
              "      <td>dc</td>\n",
              "      <td>dc</td>\n",
              "      <td>time    dc_0    dc_1    dc_2  ...  dc_188...</td>\n",
              "      <td>1</td>\n",
              "    </tr>\n",
              "    <tr>\n",
              "      <th>2</th>\n",
              "      <td>04</td>\n",
              "      <td>04</td>\n",
              "      <td>2</td>\n",
              "      <td>dc</td>\n",
              "      <td>dc</td>\n",
              "      <td>time    dc_0    dc_1    dc_2  ...  dc_188...</td>\n",
              "      <td>2</td>\n",
              "    </tr>\n",
              "    <tr>\n",
              "      <th>3</th>\n",
              "      <td>04</td>\n",
              "      <td>04</td>\n",
              "      <td>2</td>\n",
              "      <td>dc</td>\n",
              "      <td>dc</td>\n",
              "      <td>time    dc_0    dc_1    dc_2  ...  dc_1...</td>\n",
              "      <td>3</td>\n",
              "    </tr>\n",
              "    <tr>\n",
              "      <th>4</th>\n",
              "      <td>04</td>\n",
              "      <td>04</td>\n",
              "      <td>2</td>\n",
              "      <td>dc</td>\n",
              "      <td>dc</td>\n",
              "      <td>time    dc_0    dc_1    dc_2  ...  dc_1...</td>\n",
              "      <td>4</td>\n",
              "    </tr>\n",
              "  </tbody>\n",
              "</table>\n",
              "</div>\n",
              "      <button class=\"colab-df-convert\" onclick=\"convertToInteractive('df-9d28757c-1651-46c1-a610-40e5214b3651')\"\n",
              "              title=\"Convert this dataframe to an interactive table.\"\n",
              "              style=\"display:none;\">\n",
              "        \n",
              "  <svg xmlns=\"http://www.w3.org/2000/svg\" height=\"24px\"viewBox=\"0 0 24 24\"\n",
              "       width=\"24px\">\n",
              "    <path d=\"M0 0h24v24H0V0z\" fill=\"none\"/>\n",
              "    <path d=\"M18.56 5.44l.94 2.06.94-2.06 2.06-.94-2.06-.94-.94-2.06-.94 2.06-2.06.94zm-11 1L8.5 8.5l.94-2.06 2.06-.94-2.06-.94L8.5 2.5l-.94 2.06-2.06.94zm10 10l.94 2.06.94-2.06 2.06-.94-2.06-.94-.94-2.06-.94 2.06-2.06.94z\"/><path d=\"M17.41 7.96l-1.37-1.37c-.4-.4-.92-.59-1.43-.59-.52 0-1.04.2-1.43.59L10.3 9.45l-7.72 7.72c-.78.78-.78 2.05 0 2.83L4 21.41c.39.39.9.59 1.41.59.51 0 1.02-.2 1.41-.59l7.78-7.78 2.81-2.81c.8-.78.8-2.07 0-2.86zM5.41 20L4 18.59l7.72-7.72 1.47 1.35L5.41 20z\"/>\n",
              "  </svg>\n",
              "      </button>\n",
              "      \n",
              "  <style>\n",
              "    .colab-df-container {\n",
              "      display:flex;\n",
              "      flex-wrap:wrap;\n",
              "      gap: 12px;\n",
              "    }\n",
              "\n",
              "    .colab-df-convert {\n",
              "      background-color: #E8F0FE;\n",
              "      border: none;\n",
              "      border-radius: 50%;\n",
              "      cursor: pointer;\n",
              "      display: none;\n",
              "      fill: #1967D2;\n",
              "      height: 32px;\n",
              "      padding: 0 0 0 0;\n",
              "      width: 32px;\n",
              "    }\n",
              "\n",
              "    .colab-df-convert:hover {\n",
              "      background-color: #E2EBFA;\n",
              "      box-shadow: 0px 1px 2px rgba(60, 64, 67, 0.3), 0px 1px 3px 1px rgba(60, 64, 67, 0.15);\n",
              "      fill: #174EA6;\n",
              "    }\n",
              "\n",
              "    [theme=dark] .colab-df-convert {\n",
              "      background-color: #3B4455;\n",
              "      fill: #D2E3FC;\n",
              "    }\n",
              "\n",
              "    [theme=dark] .colab-df-convert:hover {\n",
              "      background-color: #434B5C;\n",
              "      box-shadow: 0px 1px 3px 1px rgba(0, 0, 0, 0.15);\n",
              "      filter: drop-shadow(0px 1px 2px rgba(0, 0, 0, 0.3));\n",
              "      fill: #FFFFFF;\n",
              "    }\n",
              "  </style>\n",
              "\n",
              "      <script>\n",
              "        const buttonEl =\n",
              "          document.querySelector('#df-9d28757c-1651-46c1-a610-40e5214b3651 button.colab-df-convert');\n",
              "        buttonEl.style.display =\n",
              "          google.colab.kernel.accessAllowed ? 'block' : 'none';\n",
              "\n",
              "        async function convertToInteractive(key) {\n",
              "          const element = document.querySelector('#df-9d28757c-1651-46c1-a610-40e5214b3651');\n",
              "          const dataTable =\n",
              "            await google.colab.kernel.invokeFunction('convertToInteractive',\n",
              "                                                     [key], {});\n",
              "          if (!dataTable) return;\n",
              "\n",
              "          const docLinkHtml = 'Like what you see? Visit the ' +\n",
              "            '<a target=\"_blank\" href=https://colab.research.google.com/notebooks/data_table.ipynb>data table notebook</a>'\n",
              "            + ' to learn more about interactive tables.';\n",
              "          element.innerHTML = '';\n",
              "          dataTable['output_type'] = 'display_data';\n",
              "          await google.colab.output.renderOutput(dataTable, element);\n",
              "          const docLink = document.createElement('div');\n",
              "          docLink.innerHTML = docLinkHtml;\n",
              "          element.appendChild(docLink);\n",
              "        }\n",
              "      </script>\n",
              "    </div>\n",
              "  </div>\n",
              "  "
            ],
            "text/plain": [
              "  subject_id  ... window_idx\n",
              "0         04  ...          0\n",
              "1         04  ...          1\n",
              "2         04  ...          2\n",
              "3         04  ...          3\n",
              "4         04  ...          4\n",
              "\n",
              "[5 rows x 7 columns]"
            ]
          },
          "metadata": {},
          "output_type": "display_data"
        },
        {
          "name": "stdout",
          "output_type": "stream",
          "text": [
            "Dataframe with one windowed measurement series:\n"
          ]
        },
        {
          "data": {
            "text/html": [
              "\n",
              "  <div id=\"df-5644ab38-5e8d-4a57-ad10-9b2652960999\">\n",
              "    <div class=\"colab-df-container\">\n",
              "      <div>\n",
              "<style scoped>\n",
              "    .dataframe tbody tr th:only-of-type {\n",
              "        vertical-align: middle;\n",
              "    }\n",
              "\n",
              "    .dataframe tbody tr th {\n",
              "        vertical-align: top;\n",
              "    }\n",
              "\n",
              "    .dataframe thead th {\n",
              "        text-align: right;\n",
              "    }\n",
              "</style>\n",
              "<table border=\"1\" class=\"dataframe\">\n",
              "  <thead>\n",
              "    <tr style=\"text-align: right;\">\n",
              "      <th></th>\n",
              "      <th>time</th>\n",
              "      <th>dc_0</th>\n",
              "      <th>dc_1</th>\n",
              "      <th>dc_2</th>\n",
              "      <th>dc_3</th>\n",
              "      <th>dc_4</th>\n",
              "      <th>dc_5</th>\n",
              "      <th>dc_6</th>\n",
              "      <th>dc_7</th>\n",
              "      <th>dc_8</th>\n",
              "      <th>dc_9</th>\n",
              "      <th>dc_10</th>\n",
              "      <th>dc_11</th>\n",
              "      <th>dc_12</th>\n",
              "      <th>dc_13</th>\n",
              "      <th>dc_14</th>\n",
              "      <th>dc_15</th>\n",
              "      <th>dc_16</th>\n",
              "      <th>dc_17</th>\n",
              "      <th>dc_18</th>\n",
              "      <th>dc_19</th>\n",
              "      <th>dc_20</th>\n",
              "      <th>dc_21</th>\n",
              "      <th>dc_22</th>\n",
              "      <th>dc_23</th>\n",
              "      <th>dc_24</th>\n",
              "      <th>dc_25</th>\n",
              "      <th>dc_26</th>\n",
              "      <th>dc_27</th>\n",
              "      <th>dc_28</th>\n",
              "      <th>dc_29</th>\n",
              "      <th>dc_30</th>\n",
              "      <th>dc_31</th>\n",
              "      <th>dc_32</th>\n",
              "      <th>dc_33</th>\n",
              "      <th>dc_34</th>\n",
              "      <th>dc_35</th>\n",
              "      <th>dc_36</th>\n",
              "      <th>dc_37</th>\n",
              "      <th>dc_38</th>\n",
              "      <th>...</th>\n",
              "      <th>dc_152</th>\n",
              "      <th>dc_153</th>\n",
              "      <th>dc_154</th>\n",
              "      <th>dc_155</th>\n",
              "      <th>dc_156</th>\n",
              "      <th>dc_157</th>\n",
              "      <th>dc_158</th>\n",
              "      <th>dc_159</th>\n",
              "      <th>dc_160</th>\n",
              "      <th>dc_161</th>\n",
              "      <th>dc_162</th>\n",
              "      <th>dc_163</th>\n",
              "      <th>dc_164</th>\n",
              "      <th>dc_165</th>\n",
              "      <th>dc_166</th>\n",
              "      <th>dc_167</th>\n",
              "      <th>dc_168</th>\n",
              "      <th>dc_169</th>\n",
              "      <th>dc_170</th>\n",
              "      <th>dc_171</th>\n",
              "      <th>dc_172</th>\n",
              "      <th>dc_173</th>\n",
              "      <th>dc_174</th>\n",
              "      <th>dc_175</th>\n",
              "      <th>dc_176</th>\n",
              "      <th>dc_177</th>\n",
              "      <th>dc_178</th>\n",
              "      <th>dc_179</th>\n",
              "      <th>dc_180</th>\n",
              "      <th>dc_181</th>\n",
              "      <th>dc_182</th>\n",
              "      <th>dc_183</th>\n",
              "      <th>dc_184</th>\n",
              "      <th>dc_185</th>\n",
              "      <th>dc_186</th>\n",
              "      <th>dc_187</th>\n",
              "      <th>dc_188</th>\n",
              "      <th>dc_189</th>\n",
              "      <th>dc_190</th>\n",
              "      <th>dc_191</th>\n",
              "    </tr>\n",
              "  </thead>\n",
              "  <tbody>\n",
              "    <tr>\n",
              "      <th>0</th>\n",
              "      <td>0.0</td>\n",
              "      <td>0.4497</td>\n",
              "      <td>0.9181</td>\n",
              "      <td>0.9111</td>\n",
              "      <td>0.915</td>\n",
              "      <td>0.9244</td>\n",
              "      <td>0.9189</td>\n",
              "      <td>0.914</td>\n",
              "      <td>0.9105</td>\n",
              "      <td>0.9088</td>\n",
              "      <td>0.9025</td>\n",
              "      <td>0.8994</td>\n",
              "      <td>0.8939</td>\n",
              "      <td>0.8884</td>\n",
              "      <td>0.8846</td>\n",
              "      <td>0.8846</td>\n",
              "      <td>0.8799</td>\n",
              "      <td>0.4435</td>\n",
              "      <td>0.9121</td>\n",
              "      <td>0.9306</td>\n",
              "      <td>0.9306</td>\n",
              "      <td>0.9283</td>\n",
              "      <td>0.9244</td>\n",
              "      <td>0.9056</td>\n",
              "      <td>0.9131</td>\n",
              "      <td>0.9094</td>\n",
              "      <td>0.9088</td>\n",
              "      <td>0.9025</td>\n",
              "      <td>0.8994</td>\n",
              "      <td>0.8963</td>\n",
              "      <td>0.8884</td>\n",
              "      <td>0.8846</td>\n",
              "      <td>0.8814</td>\n",
              "      <td>0.4429</td>\n",
              "      <td>0.9100</td>\n",
              "      <td>0.9337</td>\n",
              "      <td>0.9290</td>\n",
              "      <td>0.9244</td>\n",
              "      <td>0.9212</td>\n",
              "      <td>0.9165</td>\n",
              "      <td>...</td>\n",
              "      <td>0.7110</td>\n",
              "      <td>0.7001</td>\n",
              "      <td>0.7149</td>\n",
              "      <td>0.7325</td>\n",
              "      <td>0.9244</td>\n",
              "      <td>0.9244</td>\n",
              "      <td>0.9181</td>\n",
              "      <td>0.9121</td>\n",
              "      <td>0.4936</td>\n",
              "      <td>0.9782</td>\n",
              "      <td>0.9751</td>\n",
              "      <td>0.9680</td>\n",
              "      <td>0.9641</td>\n",
              "      <td>0.961</td>\n",
              "      <td>0.9555</td>\n",
              "      <td>0.9501</td>\n",
              "      <td>0.947</td>\n",
              "      <td>0.7079</td>\n",
              "      <td>0.7276</td>\n",
              "      <td>0.2326</td>\n",
              "      <td>0.9322</td>\n",
              "      <td>0.9244</td>\n",
              "      <td>0.9236</td>\n",
              "      <td>0.9165</td>\n",
              "      <td>0.4945</td>\n",
              "      <td>0.9829</td>\n",
              "      <td>0.9751</td>\n",
              "      <td>0.9751</td>\n",
              "      <td>0.9704</td>\n",
              "      <td>0.961</td>\n",
              "      <td>0.961</td>\n",
              "      <td>0.954</td>\n",
              "      <td>0.9501</td>\n",
              "      <td>0.947</td>\n",
              "      <td>0.9415</td>\n",
              "      <td>0.9368</td>\n",
              "      <td>0.9337</td>\n",
              "      <td>0.9306</td>\n",
              "      <td>0.9228</td>\n",
              "      <td>0.9220</td>\n",
              "    </tr>\n",
              "    <tr>\n",
              "      <th>1</th>\n",
              "      <td>1000.0</td>\n",
              "      <td>0.4497</td>\n",
              "      <td>0.9181</td>\n",
              "      <td>0.9111</td>\n",
              "      <td>0.915</td>\n",
              "      <td>0.9212</td>\n",
              "      <td>0.9181</td>\n",
              "      <td>0.914</td>\n",
              "      <td>0.9111</td>\n",
              "      <td>0.9088</td>\n",
              "      <td>0.9025</td>\n",
              "      <td>0.8994</td>\n",
              "      <td>0.8931</td>\n",
              "      <td>0.8884</td>\n",
              "      <td>0.8846</td>\n",
              "      <td>0.8814</td>\n",
              "      <td>0.8806</td>\n",
              "      <td>0.4435</td>\n",
              "      <td>0.9121</td>\n",
              "      <td>0.9306</td>\n",
              "      <td>0.9306</td>\n",
              "      <td>0.9283</td>\n",
              "      <td>0.9244</td>\n",
              "      <td>0.9064</td>\n",
              "      <td>0.9121</td>\n",
              "      <td>0.9100</td>\n",
              "      <td>0.9080</td>\n",
              "      <td>0.9025</td>\n",
              "      <td>0.8994</td>\n",
              "      <td>0.8963</td>\n",
              "      <td>0.8869</td>\n",
              "      <td>0.8846</td>\n",
              "      <td>0.8814</td>\n",
              "      <td>0.4435</td>\n",
              "      <td>0.9100</td>\n",
              "      <td>0.9337</td>\n",
              "      <td>0.9275</td>\n",
              "      <td>0.9244</td>\n",
              "      <td>0.9212</td>\n",
              "      <td>0.9173</td>\n",
              "      <td>...</td>\n",
              "      <td>0.6644</td>\n",
              "      <td>0.6389</td>\n",
              "      <td>0.6377</td>\n",
              "      <td>0.6482</td>\n",
              "      <td>0.0000</td>\n",
              "      <td>0.9244</td>\n",
              "      <td>0.9181</td>\n",
              "      <td>0.9150</td>\n",
              "      <td>0.4945</td>\n",
              "      <td>0.9782</td>\n",
              "      <td>0.9751</td>\n",
              "      <td>0.9688</td>\n",
              "      <td>0.9641</td>\n",
              "      <td>0.961</td>\n",
              "      <td>0.9555</td>\n",
              "      <td>0.9501</td>\n",
              "      <td>0.947</td>\n",
              "      <td>0.9447</td>\n",
              "      <td>0.6404</td>\n",
              "      <td>0.6459</td>\n",
              "      <td>0.9306</td>\n",
              "      <td>0.9267</td>\n",
              "      <td>0.9244</td>\n",
              "      <td>0.9165</td>\n",
              "      <td>0.4945</td>\n",
              "      <td>0.9821</td>\n",
              "      <td>0.9751</td>\n",
              "      <td>0.9751</td>\n",
              "      <td>0.9704</td>\n",
              "      <td>0.961</td>\n",
              "      <td>0.961</td>\n",
              "      <td>0.954</td>\n",
              "      <td>0.9501</td>\n",
              "      <td>0.947</td>\n",
              "      <td>0.9431</td>\n",
              "      <td>0.9368</td>\n",
              "      <td>0.9337</td>\n",
              "      <td>0.9306</td>\n",
              "      <td>0.9244</td>\n",
              "      <td>0.9236</td>\n",
              "    </tr>\n",
              "    <tr>\n",
              "      <th>2</th>\n",
              "      <td>2000.0</td>\n",
              "      <td>0.4497</td>\n",
              "      <td>0.9173</td>\n",
              "      <td>0.9111</td>\n",
              "      <td>0.915</td>\n",
              "      <td>0.9220</td>\n",
              "      <td>0.9197</td>\n",
              "      <td>0.914</td>\n",
              "      <td>0.9111</td>\n",
              "      <td>0.9088</td>\n",
              "      <td>0.9025</td>\n",
              "      <td>0.8994</td>\n",
              "      <td>0.8931</td>\n",
              "      <td>0.8884</td>\n",
              "      <td>0.8838</td>\n",
              "      <td>0.8814</td>\n",
              "      <td>0.8814</td>\n",
              "      <td>0.4435</td>\n",
              "      <td>0.9121</td>\n",
              "      <td>0.9306</td>\n",
              "      <td>0.9306</td>\n",
              "      <td>0.9298</td>\n",
              "      <td>0.9220</td>\n",
              "      <td>0.9072</td>\n",
              "      <td>0.9121</td>\n",
              "      <td>0.9100</td>\n",
              "      <td>0.9080</td>\n",
              "      <td>0.9025</td>\n",
              "      <td>0.8994</td>\n",
              "      <td>0.4830</td>\n",
              "      <td>0.6667</td>\n",
              "      <td>0.8846</td>\n",
              "      <td>0.8814</td>\n",
              "      <td>0.4423</td>\n",
              "      <td>0.9100</td>\n",
              "      <td>0.9329</td>\n",
              "      <td>0.9306</td>\n",
              "      <td>0.7270</td>\n",
              "      <td>0.3491</td>\n",
              "      <td>0.6732</td>\n",
              "      <td>...</td>\n",
              "      <td>0.9439</td>\n",
              "      <td>0.8083</td>\n",
              "      <td>0.8089</td>\n",
              "      <td>0.9306</td>\n",
              "      <td>0.9244</td>\n",
              "      <td>0.9244</td>\n",
              "      <td>0.9181</td>\n",
              "      <td>0.9150</td>\n",
              "      <td>0.4926</td>\n",
              "      <td>0.9782</td>\n",
              "      <td>0.9751</td>\n",
              "      <td>0.9696</td>\n",
              "      <td>0.9641</td>\n",
              "      <td>0.961</td>\n",
              "      <td>0.9555</td>\n",
              "      <td>0.9501</td>\n",
              "      <td>0.947</td>\n",
              "      <td>0.9439</td>\n",
              "      <td>0.7026</td>\n",
              "      <td>0.9337</td>\n",
              "      <td>0.9306</td>\n",
              "      <td>0.9260</td>\n",
              "      <td>0.9244</td>\n",
              "      <td>0.9165</td>\n",
              "      <td>0.4945</td>\n",
              "      <td>0.9836</td>\n",
              "      <td>0.9751</td>\n",
              "      <td>0.9751</td>\n",
              "      <td>0.9704</td>\n",
              "      <td>0.961</td>\n",
              "      <td>0.961</td>\n",
              "      <td>0.954</td>\n",
              "      <td>0.9501</td>\n",
              "      <td>0.947</td>\n",
              "      <td>0.9431</td>\n",
              "      <td>0.9368</td>\n",
              "      <td>0.9337</td>\n",
              "      <td>0.9314</td>\n",
              "      <td>0.9220</td>\n",
              "      <td>0.9220</td>\n",
              "    </tr>\n",
              "    <tr>\n",
              "      <th>3</th>\n",
              "      <td>3000.0</td>\n",
              "      <td>0.4497</td>\n",
              "      <td>0.9197</td>\n",
              "      <td>0.9111</td>\n",
              "      <td>0.915</td>\n",
              "      <td>0.9212</td>\n",
              "      <td>0.9189</td>\n",
              "      <td>0.914</td>\n",
              "      <td>0.9111</td>\n",
              "      <td>0.9088</td>\n",
              "      <td>0.9025</td>\n",
              "      <td>0.8994</td>\n",
              "      <td>0.8939</td>\n",
              "      <td>0.4435</td>\n",
              "      <td>0.8822</td>\n",
              "      <td>0.8814</td>\n",
              "      <td>0.8814</td>\n",
              "      <td>0.4429</td>\n",
              "      <td>0.9131</td>\n",
              "      <td>0.9306</td>\n",
              "      <td>0.9283</td>\n",
              "      <td>0.9298</td>\n",
              "      <td>0.9220</td>\n",
              "      <td>0.9064</td>\n",
              "      <td>0.9131</td>\n",
              "      <td>0.9111</td>\n",
              "      <td>0.5378</td>\n",
              "      <td>0.5021</td>\n",
              "      <td>0.4772</td>\n",
              "      <td>0.4618</td>\n",
              "      <td>0.4629</td>\n",
              "      <td>0.0000</td>\n",
              "      <td>0.8814</td>\n",
              "      <td>0.4423</td>\n",
              "      <td>0.9111</td>\n",
              "      <td>0.9329</td>\n",
              "      <td>0.9298</td>\n",
              "      <td>0.7227</td>\n",
              "      <td>0.6993</td>\n",
              "      <td>0.6759</td>\n",
              "      <td>...</td>\n",
              "      <td>0.9439</td>\n",
              "      <td>0.8031</td>\n",
              "      <td>0.8060</td>\n",
              "      <td>0.9306</td>\n",
              "      <td>0.9260</td>\n",
              "      <td>0.9244</td>\n",
              "      <td>0.9197</td>\n",
              "      <td>0.9140</td>\n",
              "      <td>0.4926</td>\n",
              "      <td>0.9782</td>\n",
              "      <td>0.9751</td>\n",
              "      <td>0.9688</td>\n",
              "      <td>0.9641</td>\n",
              "      <td>0.961</td>\n",
              "      <td>0.9555</td>\n",
              "      <td>0.9501</td>\n",
              "      <td>0.947</td>\n",
              "      <td>0.9439</td>\n",
              "      <td>0.9360</td>\n",
              "      <td>0.9337</td>\n",
              "      <td>0.9322</td>\n",
              "      <td>0.9252</td>\n",
              "      <td>0.9236</td>\n",
              "      <td>0.9165</td>\n",
              "      <td>0.4945</td>\n",
              "      <td>0.9821</td>\n",
              "      <td>0.9751</td>\n",
              "      <td>0.9751</td>\n",
              "      <td>0.9704</td>\n",
              "      <td>0.961</td>\n",
              "      <td>0.961</td>\n",
              "      <td>0.954</td>\n",
              "      <td>0.9501</td>\n",
              "      <td>0.947</td>\n",
              "      <td>0.9415</td>\n",
              "      <td>0.9368</td>\n",
              "      <td>0.9337</td>\n",
              "      <td>0.9306</td>\n",
              "      <td>0.9236</td>\n",
              "      <td>0.9236</td>\n",
              "    </tr>\n",
              "    <tr>\n",
              "      <th>4</th>\n",
              "      <td>4000.0</td>\n",
              "      <td>0.4497</td>\n",
              "      <td>0.9181</td>\n",
              "      <td>0.9111</td>\n",
              "      <td>0.915</td>\n",
              "      <td>0.9212</td>\n",
              "      <td>0.9181</td>\n",
              "      <td>0.914</td>\n",
              "      <td>0.9111</td>\n",
              "      <td>0.9088</td>\n",
              "      <td>0.9025</td>\n",
              "      <td>0.9017</td>\n",
              "      <td>0.8939</td>\n",
              "      <td>0.8884</td>\n",
              "      <td>0.8846</td>\n",
              "      <td>0.8814</td>\n",
              "      <td>0.8799</td>\n",
              "      <td>0.4435</td>\n",
              "      <td>0.9115</td>\n",
              "      <td>0.9306</td>\n",
              "      <td>0.9298</td>\n",
              "      <td>0.9298</td>\n",
              "      <td>0.9244</td>\n",
              "      <td>0.9072</td>\n",
              "      <td>0.9131</td>\n",
              "      <td>0.9105</td>\n",
              "      <td>0.9088</td>\n",
              "      <td>0.9025</td>\n",
              "      <td>0.8994</td>\n",
              "      <td>0.8963</td>\n",
              "      <td>0.8869</td>\n",
              "      <td>0.8838</td>\n",
              "      <td>0.8814</td>\n",
              "      <td>0.4423</td>\n",
              "      <td>0.9100</td>\n",
              "      <td>0.9329</td>\n",
              "      <td>0.9275</td>\n",
              "      <td>0.9244</td>\n",
              "      <td>0.9212</td>\n",
              "      <td>0.9165</td>\n",
              "      <td>...</td>\n",
              "      <td>0.9447</td>\n",
              "      <td>0.6040</td>\n",
              "      <td>0.5757</td>\n",
              "      <td>0.5734</td>\n",
              "      <td>0.1517</td>\n",
              "      <td>0.9244</td>\n",
              "      <td>0.9181</td>\n",
              "      <td>0.9121</td>\n",
              "      <td>0.4918</td>\n",
              "      <td>0.9782</td>\n",
              "      <td>0.9751</td>\n",
              "      <td>0.9680</td>\n",
              "      <td>0.9641</td>\n",
              "      <td>0.961</td>\n",
              "      <td>0.9555</td>\n",
              "      <td>0.9493</td>\n",
              "      <td>0.947</td>\n",
              "      <td>0.9439</td>\n",
              "      <td>0.6034</td>\n",
              "      <td>0.5913</td>\n",
              "      <td>0.9314</td>\n",
              "      <td>0.9260</td>\n",
              "      <td>0.9244</td>\n",
              "      <td>0.9165</td>\n",
              "      <td>0.4945</td>\n",
              "      <td>0.9821</td>\n",
              "      <td>0.9751</td>\n",
              "      <td>0.9751</td>\n",
              "      <td>0.9704</td>\n",
              "      <td>0.961</td>\n",
              "      <td>0.961</td>\n",
              "      <td>0.954</td>\n",
              "      <td>0.9501</td>\n",
              "      <td>0.947</td>\n",
              "      <td>0.9423</td>\n",
              "      <td>0.9368</td>\n",
              "      <td>0.9337</td>\n",
              "      <td>0.9306</td>\n",
              "      <td>0.9228</td>\n",
              "      <td>0.9220</td>\n",
              "    </tr>\n",
              "  </tbody>\n",
              "</table>\n",
              "<p>5 rows × 193 columns</p>\n",
              "</div>\n",
              "      <button class=\"colab-df-convert\" onclick=\"convertToInteractive('df-5644ab38-5e8d-4a57-ad10-9b2652960999')\"\n",
              "              title=\"Convert this dataframe to an interactive table.\"\n",
              "              style=\"display:none;\">\n",
              "        \n",
              "  <svg xmlns=\"http://www.w3.org/2000/svg\" height=\"24px\"viewBox=\"0 0 24 24\"\n",
              "       width=\"24px\">\n",
              "    <path d=\"M0 0h24v24H0V0z\" fill=\"none\"/>\n",
              "    <path d=\"M18.56 5.44l.94 2.06.94-2.06 2.06-.94-2.06-.94-.94-2.06-.94 2.06-2.06.94zm-11 1L8.5 8.5l.94-2.06 2.06-.94-2.06-.94L8.5 2.5l-.94 2.06-2.06.94zm10 10l.94 2.06.94-2.06 2.06-.94-2.06-.94-.94-2.06-.94 2.06-2.06.94z\"/><path d=\"M17.41 7.96l-1.37-1.37c-.4-.4-.92-.59-1.43-.59-.52 0-1.04.2-1.43.59L10.3 9.45l-7.72 7.72c-.78.78-.78 2.05 0 2.83L4 21.41c.39.39.9.59 1.41.59.51 0 1.02-.2 1.41-.59l7.78-7.78 2.81-2.81c.8-.78.8-2.07 0-2.86zM5.41 20L4 18.59l7.72-7.72 1.47 1.35L5.41 20z\"/>\n",
              "  </svg>\n",
              "      </button>\n",
              "      \n",
              "  <style>\n",
              "    .colab-df-container {\n",
              "      display:flex;\n",
              "      flex-wrap:wrap;\n",
              "      gap: 12px;\n",
              "    }\n",
              "\n",
              "    .colab-df-convert {\n",
              "      background-color: #E8F0FE;\n",
              "      border: none;\n",
              "      border-radius: 50%;\n",
              "      cursor: pointer;\n",
              "      display: none;\n",
              "      fill: #1967D2;\n",
              "      height: 32px;\n",
              "      padding: 0 0 0 0;\n",
              "      width: 32px;\n",
              "    }\n",
              "\n",
              "    .colab-df-convert:hover {\n",
              "      background-color: #E2EBFA;\n",
              "      box-shadow: 0px 1px 2px rgba(60, 64, 67, 0.3), 0px 1px 3px 1px rgba(60, 64, 67, 0.15);\n",
              "      fill: #174EA6;\n",
              "    }\n",
              "\n",
              "    [theme=dark] .colab-df-convert {\n",
              "      background-color: #3B4455;\n",
              "      fill: #D2E3FC;\n",
              "    }\n",
              "\n",
              "    [theme=dark] .colab-df-convert:hover {\n",
              "      background-color: #434B5C;\n",
              "      box-shadow: 0px 1px 3px 1px rgba(0, 0, 0, 0.15);\n",
              "      filter: drop-shadow(0px 1px 2px rgba(0, 0, 0, 0.3));\n",
              "      fill: #FFFFFF;\n",
              "    }\n",
              "  </style>\n",
              "\n",
              "      <script>\n",
              "        const buttonEl =\n",
              "          document.querySelector('#df-5644ab38-5e8d-4a57-ad10-9b2652960999 button.colab-df-convert');\n",
              "        buttonEl.style.display =\n",
              "          google.colab.kernel.accessAllowed ? 'block' : 'none';\n",
              "\n",
              "        async function convertToInteractive(key) {\n",
              "          const element = document.querySelector('#df-5644ab38-5e8d-4a57-ad10-9b2652960999');\n",
              "          const dataTable =\n",
              "            await google.colab.kernel.invokeFunction('convertToInteractive',\n",
              "                                                     [key], {});\n",
              "          if (!dataTable) return;\n",
              "\n",
              "          const docLinkHtml = 'Like what you see? Visit the ' +\n",
              "            '<a target=\"_blank\" href=https://colab.research.google.com/notebooks/data_table.ipynb>data table notebook</a>'\n",
              "            + ' to learn more about interactive tables.';\n",
              "          element.innerHTML = '';\n",
              "          dataTable['output_type'] = 'display_data';\n",
              "          await google.colab.output.renderOutput(dataTable, element);\n",
              "          const docLink = document.createElement('div');\n",
              "          docLink.innerHTML = docLinkHtml;\n",
              "          element.appendChild(docLink);\n",
              "        }\n",
              "      </script>\n",
              "    </div>\n",
              "  </div>\n",
              "  "
            ],
            "text/plain": [
              "     time    dc_0    dc_1    dc_2  ...  dc_188  dc_189  dc_190  dc_191\n",
              "0     0.0  0.4497  0.9181  0.9111  ...  0.9337  0.9306  0.9228  0.9220\n",
              "1  1000.0  0.4497  0.9181  0.9111  ...  0.9337  0.9306  0.9244  0.9236\n",
              "2  2000.0  0.4497  0.9173  0.9111  ...  0.9337  0.9314  0.9220  0.9220\n",
              "3  3000.0  0.4497  0.9197  0.9111  ...  0.9337  0.9306  0.9236  0.9236\n",
              "4  4000.0  0.4497  0.9181  0.9111  ...  0.9337  0.9306  0.9228  0.9220\n",
              "\n",
              "[5 rows x 193 columns]"
            ]
          },
          "metadata": {},
          "output_type": "display_data"
        }
      ],
      "source": [
        "# Extract 5-second long windows with 2-second shift (3-second overlap)\n",
        "\n",
        "records_windowed = []\n",
        "\n",
        "time_window = 5000.\n",
        "time_offset = 2000.\n",
        "    \n",
        "for row_idx, row_data in df_records.iterrows():\n",
        "    df_tmp = row_data[\"df\"]\n",
        "    time_start = np.min(df_tmp[\"time\"].to_numpy())\n",
        "    time_end = np.max(df_tmp[\"time\"].to_numpy())\n",
        "    \n",
        "    for window_idx, t0 in enumerate(np.arange(time_start, time_end, time_offset)):\n",
        "        t1 = t0 + time_window\n",
        "        # Handle boundary conditions - skip the measurements from the end shorter than window size\n",
        "        if t1 > time_end:\n",
        "            continue\n",
        "        \n",
        "        tmp_data = deepcopy(row_data)\n",
        "        tmp_data[\"window_idx\"] = window_idx\n",
        "        tmp_data[\"df\"] = df_tmp[(df_tmp[\"time\"] >= t0) &\n",
        "                                (df_tmp[\"time\"] < t1)].copy()\n",
        "        \n",
        "        records_windowed.append(tmp_data)\n",
        "        \n",
        "df_records_windowed = pd.DataFrame.from_records(records_windowed)\n",
        "\n",
        "print(f\"Total windows extracted: {len(df_records_windowed)}\")\n",
        "print(\"Dataframe with all windowed records:\")\n",
        "display(df_records_windowed.head())\n",
        "print(\"Dataframe with one windowed measurement series:\")\n",
        "display(df_records_windowed[\"df\"].iloc[0].head())"
      ]
    },
    {
      "cell_type": "code",
      "execution_count": 5,
      "metadata": {
        "id": "avSD2ajPdAd5"
      },
      "outputs": [],
      "source": [
        "df_records_windowed.drop(['sensor_code', 'trial'], axis=1, inplace=True)"
      ]
    },
    {
      "cell_type": "markdown",
      "metadata": {
        "id": "LLzb3ft6g48U"
      },
      "source": [
        "## Helper functions"
      ]
    },
    {
      "cell_type": "code",
      "execution_count": 6,
      "metadata": {
        "colab": {
          "base_uri": "https://localhost:8080/"
        },
        "id": "L58eAEAcXlxM",
        "outputId": "b080e244-fcb9-4368-f832-e9cc5f07a2ab"
      },
      "outputs": [
        {
          "data": {
            "text/plain": [
              "58"
            ]
          },
          "execution_count": 6,
          "metadata": {},
          "output_type": "execute_result"
        }
      ],
      "source": [
        "def extract(p, e):\n",
        "  p1_2 = df_records_windowed[df_records_windowed['subject_id'] == p]\n",
        "  p1_2 = p1_2[p1_2['exercise_id'] == e]\n",
        "  return p1_2\n",
        "\n",
        "p1_2 = extract('01', '02')\n",
        "len(p1_2)"
      ]
    },
    {
      "cell_type": "code",
      "execution_count": 7,
      "metadata": {
        "id": "wNnmXg2FXlzl"
      },
      "outputs": [],
      "source": [
        "p1_5 = extract('01', '05')\n",
        "p1_6 = extract('01', '06')\n",
        "p5_2 = extract('05', '02')\n",
        "p5_5 = extract('05', '05')\n",
        "p5_6 = extract('05', '06')"
      ]
    },
    {
      "cell_type": "code",
      "execution_count": 8,
      "metadata": {
        "colab": {
          "base_uri": "https://localhost:8080/"
        },
        "id": "RnCaiJ8sbjea",
        "outputId": "01bb6ff7-d29d-4ffb-a824-4f1928dc3662"
      },
      "outputs": [
        {
          "data": {
            "text/plain": [
              "193"
            ]
          },
          "execution_count": 8,
          "metadata": {},
          "output_type": "execute_result"
        }
      ],
      "source": [
        "p1_2['df'].iloc[0].shape[1]"
      ]
    },
    {
      "cell_type": "code",
      "execution_count": 9,
      "metadata": {
        "id": "4rtuA1OQaJ0O"
      },
      "outputs": [],
      "source": [
        "def idx(df):\n",
        "  for i in range(len(df)):\n",
        "    if df['df'].iloc[i].shape[1] == 4:\n",
        "      idx1 = i\n",
        "    elif df['df'].iloc[i].shape[1] == 193:\n",
        "      idx2 = i\n",
        "    else:\n",
        "      return 0, 0\n",
        "  return idx1, idx2\n",
        "\n",
        "idx1, idx2 = idx(p1_2)"
      ]
    },
    {
      "cell_type": "markdown",
      "metadata": {
        "id": "8QYgPyqrg_d6"
      },
      "source": [
        "## 1.1 Accelerometer data visualisation"
      ]
    },
    {
      "cell_type": "code",
      "execution_count": 10,
      "metadata": {
        "colab": {
          "base_uri": "https://localhost:8080/",
          "height": 350
        },
        "id": "vGQabRSqXl-D",
        "outputId": "e982d21a-de5c-4aaf-db46-f856a21bc68f"
      },
      "outputs": [
        {
          "data": {
            "image/png": "[encoded data removed]",
            "text/plain": [
              "<Figure size 720x360 with 1 Axes>"
            ]
          },
          "metadata": {
            "needs_background": "light"
          },
          "output_type": "display_data"
        }
      ],
      "source": [
        "#p1_2 vis\n",
        "def vis(df, idx, title):\n",
        "  plt.figure(figsize=(10, 5))\n",
        "  plt.plot(df['df'].iloc[idx]['time'], df['df'].iloc[idx]['acc_0'], color= 'red', label = 'acc0')\n",
        "  plt.plot(df['df'].iloc[idx]['time'], df['df'].iloc[idx]['acc_1'], color = 'blue', label = 'acc1')\n",
        "  plt.plot(df['df'].iloc[idx]['time'], df['df'].iloc[idx]['acc_2'], color = 'green', label = 'acc2')\n",
        "  plt.xlabel('time')\n",
        "  plt.ylabel('sensor reading')\n",
        "  plt.title(title)\n",
        "  plt.legend()\n",
        "\n",
        "vis(p1_2, idx1, 'person1 exercise 2')\n"
      ]
    },
    {
      "cell_type": "code",
      "execution_count": 11,
      "metadata": {
        "colab": {
          "base_uri": "https://localhost:8080/",
          "height": 350
        },
        "id": "by9gat-IgY_z",
        "outputId": "4959e284-a762-4e56-be5f-676aa7be5419"
      },
      "outputs": [
        {
          "data": {
            "image/png": "[encoded data removed]",
            "text/plain": [
              "<Figure size 720x360 with 1 Axes>"
            ]
          },
          "metadata": {
            "needs_background": "light"
          },
          "output_type": "display_data"
        }
      ],
      "source": [
        "idx1, idx2 = idx(p1_5)\n",
        "vis(p1_5, idx1, 'person1 exercise 5')"
      ]
    },
    {
      "cell_type": "code",
      "execution_count": 12,
      "metadata": {
        "colab": {
          "base_uri": "https://localhost:8080/",
          "height": 350
        },
        "id": "JHIRiFJ1gZDq",
        "outputId": "64c0e0be-216f-49c6-881f-7c29ad2f714c"
      },
      "outputs": [
        {
          "data": {
            "image/png": "[encoded data removed]",
            "text/plain": [
              "<Figure size 720x360 with 1 Axes>"
            ]
          },
          "metadata": {
            "needs_background": "light"
          },
          "output_type": "display_data"
        }
      ],
      "source": [
        "idx1, idx2 = idx(p1_6)\n",
        "vis(p1_6, idx1, 'person1 exercise 6')"
      ]
    },
    {
      "cell_type": "code",
      "execution_count": 13,
      "metadata": {
        "colab": {
          "base_uri": "https://localhost:8080/",
          "height": 350
        },
        "id": "ywu2YqPJgZHG",
        "outputId": "8e2d7ed3-7645-48a3-96bd-88658255aaca"
      },
      "outputs": [
        {
          "data": {
            "image/png": "[encoded data removed]",
            "text/plain": [
              "<Figure size 720x360 with 1 Axes>"
            ]
          },
          "metadata": {
            "needs_background": "light"
          },
          "output_type": "display_data"
        }
      ],
      "source": [
        "idx1, idx2 = idx(p5_2)\n",
        "vis(p5_2, idx1, 'person5 exercise 2')"
      ]
    },
    {
      "cell_type": "code",
      "execution_count": 14,
      "metadata": {
        "colab": {
          "base_uri": "https://localhost:8080/",
          "height": 350
        },
        "id": "G2Oq7N3jgZKM",
        "outputId": "5a5d3976-8844-4819-df6e-9412b7987e34"
      },
      "outputs": [
        {
          "data": {
            "image/png": "[encoded data removed]",
            "text/plain": [
              "<Figure size 720x360 with 1 Axes>"
            ]
          },
          "metadata": {
            "needs_background": "light"
          },
          "output_type": "display_data"
        }
      ],
      "source": [
        "idx1, idx2 = idx(p5_5)\n",
        "vis(p5_5, idx1, 'person5 exercise 5')"
      ]
    },
    {
      "cell_type": "code",
      "execution_count": 15,
      "metadata": {
        "colab": {
          "base_uri": "https://localhost:8080/",
          "height": 350
        },
        "id": "CNUYYdySgZah",
        "outputId": "df44865a-30ca-4648-e5d9-4ae7b856511a"
      },
      "outputs": [
        {
          "data": {
            "image/png": "[encoded data removed]",
            "text/plain": [
              "<Figure size 720x360 with 1 Axes>"
            ]
          },
          "metadata": {
            "needs_background": "light"
          },
          "output_type": "display_data"
        }
      ],
      "source": [
        "idx1, idx2 = idx(p5_6)\n",
        "vis(p5_6, idx1, 'person5 exercise 6')"
      ]
    },
    {
      "cell_type": "markdown",
      "metadata": {
        "id": "1hif7WXxhdYW"
      },
      "source": [
        "## 1.1 Depth camera data visualisation"
      ]
    },
    {
      "cell_type": "code",
      "execution_count": 16,
      "metadata": {
        "colab": {
          "base_uri": "https://localhost:8080/",
          "height": 300
        },
        "id": "ZRczRKaghiNJ",
        "outputId": "b2c6c475-e293-4ac5-a14d-91f6f176bc21"
      },
      "outputs": [
        {
          "data": {
            "text/html": [
              "\n",
              "  <div id=\"df-4ccb1a84-52ed-4c6a-b323-efe06925e173\">\n",
              "    <div class=\"colab-df-container\">\n",
              "      <div>\n",
              "<style scoped>\n",
              "    .dataframe tbody tr th:only-of-type {\n",
              "        vertical-align: middle;\n",
              "    }\n",
              "\n",
              "    .dataframe tbody tr th {\n",
              "        vertical-align: top;\n",
              "    }\n",
              "\n",
              "    .dataframe thead th {\n",
              "        text-align: right;\n",
              "    }\n",
              "</style>\n",
              "<table border=\"1\" class=\"dataframe\">\n",
              "  <thead>\n",
              "    <tr style=\"text-align: right;\">\n",
              "      <th></th>\n",
              "      <th>time</th>\n",
              "      <th>dc_0</th>\n",
              "      <th>dc_1</th>\n",
              "      <th>dc_2</th>\n",
              "      <th>dc_3</th>\n",
              "      <th>dc_4</th>\n",
              "      <th>dc_5</th>\n",
              "      <th>dc_6</th>\n",
              "      <th>dc_7</th>\n",
              "      <th>dc_8</th>\n",
              "      <th>dc_9</th>\n",
              "      <th>dc_10</th>\n",
              "      <th>dc_11</th>\n",
              "      <th>dc_12</th>\n",
              "      <th>dc_13</th>\n",
              "      <th>dc_14</th>\n",
              "      <th>dc_15</th>\n",
              "      <th>dc_16</th>\n",
              "      <th>dc_17</th>\n",
              "      <th>dc_18</th>\n",
              "      <th>dc_19</th>\n",
              "      <th>dc_20</th>\n",
              "      <th>dc_21</th>\n",
              "      <th>dc_22</th>\n",
              "      <th>dc_23</th>\n",
              "      <th>dc_24</th>\n",
              "      <th>dc_25</th>\n",
              "      <th>dc_26</th>\n",
              "      <th>dc_27</th>\n",
              "      <th>dc_28</th>\n",
              "      <th>dc_29</th>\n",
              "      <th>dc_30</th>\n",
              "      <th>dc_31</th>\n",
              "      <th>dc_32</th>\n",
              "      <th>dc_33</th>\n",
              "      <th>dc_34</th>\n",
              "      <th>dc_35</th>\n",
              "      <th>dc_36</th>\n",
              "      <th>dc_37</th>\n",
              "      <th>dc_38</th>\n",
              "      <th>...</th>\n",
              "      <th>dc_152</th>\n",
              "      <th>dc_153</th>\n",
              "      <th>dc_154</th>\n",
              "      <th>dc_155</th>\n",
              "      <th>dc_156</th>\n",
              "      <th>dc_157</th>\n",
              "      <th>dc_158</th>\n",
              "      <th>dc_159</th>\n",
              "      <th>dc_160</th>\n",
              "      <th>dc_161</th>\n",
              "      <th>dc_162</th>\n",
              "      <th>dc_163</th>\n",
              "      <th>dc_164</th>\n",
              "      <th>dc_165</th>\n",
              "      <th>dc_166</th>\n",
              "      <th>dc_167</th>\n",
              "      <th>dc_168</th>\n",
              "      <th>dc_169</th>\n",
              "      <th>dc_170</th>\n",
              "      <th>dc_171</th>\n",
              "      <th>dc_172</th>\n",
              "      <th>dc_173</th>\n",
              "      <th>dc_174</th>\n",
              "      <th>dc_175</th>\n",
              "      <th>dc_176</th>\n",
              "      <th>dc_177</th>\n",
              "      <th>dc_178</th>\n",
              "      <th>dc_179</th>\n",
              "      <th>dc_180</th>\n",
              "      <th>dc_181</th>\n",
              "      <th>dc_182</th>\n",
              "      <th>dc_183</th>\n",
              "      <th>dc_184</th>\n",
              "      <th>dc_185</th>\n",
              "      <th>dc_186</th>\n",
              "      <th>dc_187</th>\n",
              "      <th>dc_188</th>\n",
              "      <th>dc_189</th>\n",
              "      <th>dc_190</th>\n",
              "      <th>dc_191</th>\n",
              "    </tr>\n",
              "  </thead>\n",
              "  <tbody>\n",
              "    <tr>\n",
              "      <th>36</th>\n",
              "      <td>36000.0</td>\n",
              "      <td>0.4614</td>\n",
              "      <td>0.9337</td>\n",
              "      <td>0.9314</td>\n",
              "      <td>0.9275</td>\n",
              "      <td>0.9243</td>\n",
              "      <td>0.9212</td>\n",
              "      <td>0.9204</td>\n",
              "      <td>0.9181</td>\n",
              "      <td>0.9165</td>\n",
              "      <td>0.9099</td>\n",
              "      <td>0.9087</td>\n",
              "      <td>0.9041</td>\n",
              "      <td>0.8986</td>\n",
              "      <td>0.8994</td>\n",
              "      <td>0.8971</td>\n",
              "      <td>0.8994</td>\n",
              "      <td>0.4637</td>\n",
              "      <td>0.9329</td>\n",
              "      <td>0.9352</td>\n",
              "      <td>0.8261</td>\n",
              "      <td>0.9298</td>\n",
              "      <td>0.9243</td>\n",
              "      <td>0.9243</td>\n",
              "      <td>0.9212</td>\n",
              "      <td>0.9181</td>\n",
              "      <td>0.915</td>\n",
              "      <td>0.9087</td>\n",
              "      <td>0.9048</td>\n",
              "      <td>0.4474</td>\n",
              "      <td>0.4257</td>\n",
              "      <td>0.2240</td>\n",
              "      <td>0.8994</td>\n",
              "      <td>0.4528</td>\n",
              "      <td>0.6987</td>\n",
              "      <td>0.8534</td>\n",
              "      <td>0.8319</td>\n",
              "      <td>0.7605</td>\n",
              "      <td>0.7520</td>\n",
              "      <td>0.9197</td>\n",
              "      <td>...</td>\n",
              "      <td>0.9470</td>\n",
              "      <td>0.4719</td>\n",
              "      <td>0.0000</td>\n",
              "      <td>0.5901</td>\n",
              "      <td>0.5653</td>\n",
              "      <td>0.5517</td>\n",
              "      <td>0.0000</td>\n",
              "      <td>0.9306</td>\n",
              "      <td>0.482</td>\n",
              "      <td>0.961</td>\n",
              "      <td>0.9680</td>\n",
              "      <td>0.9633</td>\n",
              "      <td>0.8775</td>\n",
              "      <td>0.961</td>\n",
              "      <td>0.9571</td>\n",
              "      <td>0.9501</td>\n",
              "      <td>0.9501</td>\n",
              "      <td>0.9470</td>\n",
              "      <td>0.947</td>\n",
              "      <td>0.9438</td>\n",
              "      <td>0.9438</td>\n",
              "      <td>0.9387</td>\n",
              "      <td>0.9387</td>\n",
              "      <td>0.9368</td>\n",
              "      <td>0.4855</td>\n",
              "      <td>0.9688</td>\n",
              "      <td>0.9711</td>\n",
              "      <td>0.9695</td>\n",
              "      <td>0.9641</td>\n",
              "      <td>0.961</td>\n",
              "      <td>0.9571</td>\n",
              "      <td>0.9571</td>\n",
              "      <td>0.954</td>\n",
              "      <td>0.7145</td>\n",
              "      <td>0.9501</td>\n",
              "      <td>0.947</td>\n",
              "      <td>0.9446</td>\n",
              "      <td>0.9470</td>\n",
              "      <td>0.9407</td>\n",
              "      <td>0.9378</td>\n",
              "    </tr>\n",
              "    <tr>\n",
              "      <th>37</th>\n",
              "      <td>37000.0</td>\n",
              "      <td>0.4606</td>\n",
              "      <td>0.9337</td>\n",
              "      <td>0.9322</td>\n",
              "      <td>0.9275</td>\n",
              "      <td>0.9251</td>\n",
              "      <td>0.9212</td>\n",
              "      <td>0.9212</td>\n",
              "      <td>0.9181</td>\n",
              "      <td>0.9150</td>\n",
              "      <td>0.9093</td>\n",
              "      <td>0.9087</td>\n",
              "      <td>0.9048</td>\n",
              "      <td>0.8986</td>\n",
              "      <td>0.8994</td>\n",
              "      <td>0.8971</td>\n",
              "      <td>0.8994</td>\n",
              "      <td>0.4637</td>\n",
              "      <td>0.9337</td>\n",
              "      <td>0.9345</td>\n",
              "      <td>0.8297</td>\n",
              "      <td>0.9298</td>\n",
              "      <td>0.9251</td>\n",
              "      <td>0.9243</td>\n",
              "      <td>0.9212</td>\n",
              "      <td>0.9181</td>\n",
              "      <td>0.915</td>\n",
              "      <td>0.9093</td>\n",
              "      <td>0.9048</td>\n",
              "      <td>0.2256</td>\n",
              "      <td>0.5636</td>\n",
              "      <td>0.8994</td>\n",
              "      <td>0.9017</td>\n",
              "      <td>0.4536</td>\n",
              "      <td>0.6987</td>\n",
              "      <td>0.8534</td>\n",
              "      <td>0.8294</td>\n",
              "      <td>0.7658</td>\n",
              "      <td>0.7582</td>\n",
              "      <td>0.9189</td>\n",
              "      <td>...</td>\n",
              "      <td>0.9470</td>\n",
              "      <td>0.9470</td>\n",
              "      <td>0.9470</td>\n",
              "      <td>0.6045</td>\n",
              "      <td>0.5758</td>\n",
              "      <td>0.5640</td>\n",
              "      <td>0.0000</td>\n",
              "      <td>0.9306</td>\n",
              "      <td>0.482</td>\n",
              "      <td>0.961</td>\n",
              "      <td>0.9688</td>\n",
              "      <td>0.9610</td>\n",
              "      <td>0.8791</td>\n",
              "      <td>0.961</td>\n",
              "      <td>0.9571</td>\n",
              "      <td>0.9501</td>\n",
              "      <td>0.9501</td>\n",
              "      <td>0.9478</td>\n",
              "      <td>0.947</td>\n",
              "      <td>0.9446</td>\n",
              "      <td>0.9438</td>\n",
              "      <td>0.9387</td>\n",
              "      <td>0.9407</td>\n",
              "      <td>0.9368</td>\n",
              "      <td>0.4855</td>\n",
              "      <td>0.9680</td>\n",
              "      <td>0.9711</td>\n",
              "      <td>0.9695</td>\n",
              "      <td>0.9641</td>\n",
              "      <td>0.961</td>\n",
              "      <td>0.9571</td>\n",
              "      <td>0.9571</td>\n",
              "      <td>0.954</td>\n",
              "      <td>0.9283</td>\n",
              "      <td>0.9486</td>\n",
              "      <td>0.947</td>\n",
              "      <td>0.9446</td>\n",
              "      <td>0.9470</td>\n",
              "      <td>0.9407</td>\n",
              "      <td>0.9378</td>\n",
              "    </tr>\n",
              "    <tr>\n",
              "      <th>38</th>\n",
              "      <td>38000.0</td>\n",
              "      <td>0.4606</td>\n",
              "      <td>0.9337</td>\n",
              "      <td>0.9314</td>\n",
              "      <td>0.9275</td>\n",
              "      <td>0.9259</td>\n",
              "      <td>0.9212</td>\n",
              "      <td>0.9212</td>\n",
              "      <td>0.9181</td>\n",
              "      <td>0.9150</td>\n",
              "      <td>0.9093</td>\n",
              "      <td>0.9087</td>\n",
              "      <td>0.9041</td>\n",
              "      <td>0.8986</td>\n",
              "      <td>0.8994</td>\n",
              "      <td>0.8971</td>\n",
              "      <td>0.8994</td>\n",
              "      <td>0.4637</td>\n",
              "      <td>0.9322</td>\n",
              "      <td>0.9352</td>\n",
              "      <td>0.8358</td>\n",
              "      <td>0.9283</td>\n",
              "      <td>0.9251</td>\n",
              "      <td>0.9235</td>\n",
              "      <td>0.9212</td>\n",
              "      <td>0.9181</td>\n",
              "      <td>0.915</td>\n",
              "      <td>0.9087</td>\n",
              "      <td>0.9056</td>\n",
              "      <td>0.0000</td>\n",
              "      <td>0.5638</td>\n",
              "      <td>0.8994</td>\n",
              "      <td>0.8994</td>\n",
              "      <td>0.4528</td>\n",
              "      <td>0.6980</td>\n",
              "      <td>0.8518</td>\n",
              "      <td>0.8370</td>\n",
              "      <td>0.7744</td>\n",
              "      <td>0.7761</td>\n",
              "      <td>0.9189</td>\n",
              "      <td>...</td>\n",
              "      <td>0.9470</td>\n",
              "      <td>0.9470</td>\n",
              "      <td>0.9454</td>\n",
              "      <td>0.4573</td>\n",
              "      <td>0.5774</td>\n",
              "      <td>0.5640</td>\n",
              "      <td>0.0000</td>\n",
              "      <td>0.9306</td>\n",
              "      <td>0.482</td>\n",
              "      <td>0.961</td>\n",
              "      <td>0.9688</td>\n",
              "      <td>0.9610</td>\n",
              "      <td>0.8815</td>\n",
              "      <td>0.961</td>\n",
              "      <td>0.9571</td>\n",
              "      <td>0.9501</td>\n",
              "      <td>0.9501</td>\n",
              "      <td>0.9470</td>\n",
              "      <td>0.947</td>\n",
              "      <td>0.9446</td>\n",
              "      <td>0.9438</td>\n",
              "      <td>0.9387</td>\n",
              "      <td>0.9397</td>\n",
              "      <td>0.9368</td>\n",
              "      <td>0.4855</td>\n",
              "      <td>0.9680</td>\n",
              "      <td>0.9711</td>\n",
              "      <td>0.9703</td>\n",
              "      <td>0.9641</td>\n",
              "      <td>0.961</td>\n",
              "      <td>0.9571</td>\n",
              "      <td>0.9571</td>\n",
              "      <td>0.954</td>\n",
              "      <td>0.7126</td>\n",
              "      <td>0.9501</td>\n",
              "      <td>0.947</td>\n",
              "      <td>0.9470</td>\n",
              "      <td>0.9462</td>\n",
              "      <td>0.9407</td>\n",
              "      <td>0.9368</td>\n",
              "    </tr>\n",
              "    <tr>\n",
              "      <th>39</th>\n",
              "      <td>39000.0</td>\n",
              "      <td>0.4606</td>\n",
              "      <td>0.9337</td>\n",
              "      <td>0.9314</td>\n",
              "      <td>0.9275</td>\n",
              "      <td>0.9243</td>\n",
              "      <td>0.9212</td>\n",
              "      <td>0.9212</td>\n",
              "      <td>0.9181</td>\n",
              "      <td>0.9150</td>\n",
              "      <td>0.9093</td>\n",
              "      <td>0.9087</td>\n",
              "      <td>0.9041</td>\n",
              "      <td>0.8986</td>\n",
              "      <td>0.8994</td>\n",
              "      <td>0.8971</td>\n",
              "      <td>0.8994</td>\n",
              "      <td>0.4622</td>\n",
              "      <td>0.9337</td>\n",
              "      <td>0.9345</td>\n",
              "      <td>0.8350</td>\n",
              "      <td>0.9283</td>\n",
              "      <td>0.9251</td>\n",
              "      <td>0.9235</td>\n",
              "      <td>0.9212</td>\n",
              "      <td>0.9181</td>\n",
              "      <td>0.915</td>\n",
              "      <td>0.9087</td>\n",
              "      <td>0.9041</td>\n",
              "      <td>0.8955</td>\n",
              "      <td>0.4520</td>\n",
              "      <td>0.8994</td>\n",
              "      <td>0.8994</td>\n",
              "      <td>0.4528</td>\n",
              "      <td>0.9306</td>\n",
              "      <td>0.8534</td>\n",
              "      <td>0.8364</td>\n",
              "      <td>0.7721</td>\n",
              "      <td>0.7652</td>\n",
              "      <td>0.9197</td>\n",
              "      <td>...</td>\n",
              "      <td>0.9470</td>\n",
              "      <td>0.9470</td>\n",
              "      <td>0.9470</td>\n",
              "      <td>0.1531</td>\n",
              "      <td>0.5801</td>\n",
              "      <td>0.5696</td>\n",
              "      <td>0.9337</td>\n",
              "      <td>0.9314</td>\n",
              "      <td>0.482</td>\n",
              "      <td>0.961</td>\n",
              "      <td>0.9688</td>\n",
              "      <td>0.9633</td>\n",
              "      <td>0.8799</td>\n",
              "      <td>0.961</td>\n",
              "      <td>0.9571</td>\n",
              "      <td>0.9501</td>\n",
              "      <td>0.9501</td>\n",
              "      <td>0.9470</td>\n",
              "      <td>0.947</td>\n",
              "      <td>0.9446</td>\n",
              "      <td>0.9438</td>\n",
              "      <td>0.9387</td>\n",
              "      <td>0.9407</td>\n",
              "      <td>0.9368</td>\n",
              "      <td>0.4855</td>\n",
              "      <td>0.9680</td>\n",
              "      <td>0.9711</td>\n",
              "      <td>0.9695</td>\n",
              "      <td>0.9641</td>\n",
              "      <td>0.961</td>\n",
              "      <td>0.9571</td>\n",
              "      <td>0.9571</td>\n",
              "      <td>0.954</td>\n",
              "      <td>0.9288</td>\n",
              "      <td>0.9470</td>\n",
              "      <td>0.947</td>\n",
              "      <td>0.9438</td>\n",
              "      <td>0.9470</td>\n",
              "      <td>0.9407</td>\n",
              "      <td>0.9387</td>\n",
              "    </tr>\n",
              "    <tr>\n",
              "      <th>40</th>\n",
              "      <td>40000.0</td>\n",
              "      <td>0.4606</td>\n",
              "      <td>0.9337</td>\n",
              "      <td>0.9329</td>\n",
              "      <td>0.9275</td>\n",
              "      <td>0.9243</td>\n",
              "      <td>0.9212</td>\n",
              "      <td>0.9204</td>\n",
              "      <td>0.9181</td>\n",
              "      <td>0.9150</td>\n",
              "      <td>0.9093</td>\n",
              "      <td>0.9087</td>\n",
              "      <td>0.9041</td>\n",
              "      <td>0.8986</td>\n",
              "      <td>0.8994</td>\n",
              "      <td>0.8971</td>\n",
              "      <td>0.8994</td>\n",
              "      <td>0.4637</td>\n",
              "      <td>0.9329</td>\n",
              "      <td>0.9352</td>\n",
              "      <td>0.8311</td>\n",
              "      <td>0.9290</td>\n",
              "      <td>0.9251</td>\n",
              "      <td>0.9235</td>\n",
              "      <td>0.9212</td>\n",
              "      <td>0.9181</td>\n",
              "      <td>0.915</td>\n",
              "      <td>0.9093</td>\n",
              "      <td>0.9041</td>\n",
              "      <td>0.6730</td>\n",
              "      <td>0.5733</td>\n",
              "      <td>0.9002</td>\n",
              "      <td>0.9009</td>\n",
              "      <td>0.4528</td>\n",
              "      <td>0.6987</td>\n",
              "      <td>0.8534</td>\n",
              "      <td>0.8331</td>\n",
              "      <td>0.7664</td>\n",
              "      <td>0.7566</td>\n",
              "      <td>0.9197</td>\n",
              "      <td>...</td>\n",
              "      <td>0.7118</td>\n",
              "      <td>0.2367</td>\n",
              "      <td>0.4719</td>\n",
              "      <td>0.5942</td>\n",
              "      <td>0.5679</td>\n",
              "      <td>0.5531</td>\n",
              "      <td>0.5628</td>\n",
              "      <td>0.9306</td>\n",
              "      <td>0.482</td>\n",
              "      <td>0.961</td>\n",
              "      <td>0.9688</td>\n",
              "      <td>0.9626</td>\n",
              "      <td>0.8727</td>\n",
              "      <td>0.961</td>\n",
              "      <td>0.9563</td>\n",
              "      <td>0.9501</td>\n",
              "      <td>0.9501</td>\n",
              "      <td>0.9478</td>\n",
              "      <td>0.947</td>\n",
              "      <td>0.9438</td>\n",
              "      <td>0.9438</td>\n",
              "      <td>0.9368</td>\n",
              "      <td>0.9407</td>\n",
              "      <td>0.9352</td>\n",
              "      <td>0.4855</td>\n",
              "      <td>0.9688</td>\n",
              "      <td>0.9721</td>\n",
              "      <td>0.9695</td>\n",
              "      <td>0.9641</td>\n",
              "      <td>0.961</td>\n",
              "      <td>0.9571</td>\n",
              "      <td>0.9571</td>\n",
              "      <td>0.954</td>\n",
              "      <td>0.7155</td>\n",
              "      <td>0.9470</td>\n",
              "      <td>0.947</td>\n",
              "      <td>0.9454</td>\n",
              "      <td>0.9462</td>\n",
              "      <td>0.9415</td>\n",
              "      <td>0.9387</td>\n",
              "    </tr>\n",
              "  </tbody>\n",
              "</table>\n",
              "<p>5 rows × 193 columns</p>\n",
              "</div>\n",
              "      <button class=\"colab-df-convert\" onclick=\"convertToInteractive('df-4ccb1a84-52ed-4c6a-b323-efe06925e173')\"\n",
              "              title=\"Convert this dataframe to an interactive table.\"\n",
              "              style=\"display:none;\">\n",
              "        \n",
              "  <svg xmlns=\"http://www.w3.org/2000/svg\" height=\"24px\"viewBox=\"0 0 24 24\"\n",
              "       width=\"24px\">\n",
              "    <path d=\"M0 0h24v24H0V0z\" fill=\"none\"/>\n",
              "    <path d=\"M18.56 5.44l.94 2.06.94-2.06 2.06-.94-2.06-.94-.94-2.06-.94 2.06-2.06.94zm-11 1L8.5 8.5l.94-2.06 2.06-.94-2.06-.94L8.5 2.5l-.94 2.06-2.06.94zm10 10l.94 2.06.94-2.06 2.06-.94-2.06-.94-.94-2.06-.94 2.06-2.06.94z\"/><path d=\"M17.41 7.96l-1.37-1.37c-.4-.4-.92-.59-1.43-.59-.52 0-1.04.2-1.43.59L10.3 9.45l-7.72 7.72c-.78.78-.78 2.05 0 2.83L4 21.41c.39.39.9.59 1.41.59.51 0 1.02-.2 1.41-.59l7.78-7.78 2.81-2.81c.8-.78.8-2.07 0-2.86zM5.41 20L4 18.59l7.72-7.72 1.47 1.35L5.41 20z\"/>\n",
              "  </svg>\n",
              "      </button>\n",
              "      \n",
              "  <style>\n",
              "    .colab-df-container {\n",
              "      display:flex;\n",
              "      flex-wrap:wrap;\n",
              "      gap: 12px;\n",
              "    }\n",
              "\n",
              "    .colab-df-convert {\n",
              "      background-color: #E8F0FE;\n",
              "      border: none;\n",
              "      border-radius: 50%;\n",
              "      cursor: pointer;\n",
              "      display: none;\n",
              "      fill: #1967D2;\n",
              "      height: 32px;\n",
              "      padding: 0 0 0 0;\n",
              "      width: 32px;\n",
              "    }\n",
              "\n",
              "    .colab-df-convert:hover {\n",
              "      background-color: #E2EBFA;\n",
              "      box-shadow: 0px 1px 2px rgba(60, 64, 67, 0.3), 0px 1px 3px 1px rgba(60, 64, 67, 0.15);\n",
              "      fill: #174EA6;\n",
              "    }\n",
              "\n",
              "    [theme=dark] .colab-df-convert {\n",
              "      background-color: #3B4455;\n",
              "      fill: #D2E3FC;\n",
              "    }\n",
              "\n",
              "    [theme=dark] .colab-df-convert:hover {\n",
              "      background-color: #434B5C;\n",
              "      box-shadow: 0px 1px 3px 1px rgba(0, 0, 0, 0.15);\n",
              "      filter: drop-shadow(0px 1px 2px rgba(0, 0, 0, 0.3));\n",
              "      fill: #FFFFFF;\n",
              "    }\n",
              "  </style>\n",
              "\n",
              "      <script>\n",
              "        const buttonEl =\n",
              "          document.querySelector('#df-4ccb1a84-52ed-4c6a-b323-efe06925e173 button.colab-df-convert');\n",
              "        buttonEl.style.display =\n",
              "          google.colab.kernel.accessAllowed ? 'block' : 'none';\n",
              "\n",
              "        async function convertToInteractive(key) {\n",
              "          const element = document.querySelector('#df-4ccb1a84-52ed-4c6a-b323-efe06925e173');\n",
              "          const dataTable =\n",
              "            await google.colab.kernel.invokeFunction('convertToInteractive',\n",
              "                                                     [key], {});\n",
              "          if (!dataTable) return;\n",
              "\n",
              "          const docLinkHtml = 'Like what you see? Visit the ' +\n",
              "            '<a target=\"_blank\" href=https://colab.research.google.com/notebooks/data_table.ipynb>data table notebook</a>'\n",
              "            + ' to learn more about interactive tables.';\n",
              "          element.innerHTML = '';\n",
              "          dataTable['output_type'] = 'display_data';\n",
              "          await google.colab.output.renderOutput(dataTable, element);\n",
              "          const docLink = document.createElement('div');\n",
              "          docLink.innerHTML = docLinkHtml;\n",
              "          element.appendChild(docLink);\n",
              "        }\n",
              "      </script>\n",
              "    </div>\n",
              "  </div>\n",
              "  "
            ],
            "text/plain": [
              "       time    dc_0    dc_1    dc_2  ...  dc_188  dc_189  dc_190  dc_191\n",
              "36  36000.0  0.4614  0.9337  0.9314  ...  0.9446  0.9470  0.9407  0.9378\n",
              "37  37000.0  0.4606  0.9337  0.9322  ...  0.9446  0.9470  0.9407  0.9378\n",
              "38  38000.0  0.4606  0.9337  0.9314  ...  0.9470  0.9462  0.9407  0.9368\n",
              "39  39000.0  0.4606  0.9337  0.9314  ...  0.9438  0.9470  0.9407  0.9387\n",
              "40  40000.0  0.4606  0.9337  0.9329  ...  0.9454  0.9462  0.9415  0.9387\n",
              "\n",
              "[5 rows x 193 columns]"
            ]
          },
          "execution_count": 16,
          "metadata": {},
          "output_type": "execute_result"
        }
      ],
      "source": [
        "p1_2['df'].iloc[idx2].head(10)"
      ]
    },
    {
      "cell_type": "code",
      "execution_count": 17,
      "metadata": {
        "colab": {
          "base_uri": "https://localhost:8080/",
          "height": 353
        },
        "id": "XQMLpxohhiRU",
        "outputId": "81b9dbd1-5501-4133-c4be-3da6636226e3"
      },
      "outputs": [
        {
          "data": {
            "text/plain": [
              "Text(0.5, 1.0, 'Depth Camera Person 1 Activity 2')"
            ]
          },
          "execution_count": 17,
          "metadata": {},
          "output_type": "execute_result"
        },
        {
          "data": {
            "image/png": "[encoded data removed]",
            "text/plain": [
              "<Figure size 720x360 with 1 Axes>"
            ]
          },
          "metadata": {
            "needs_background": "light"
          },
          "output_type": "display_data"
        }
      ],
      "source": [
        "plt.figure(figsize=(10, 5))\n",
        "from PIL import Image\n",
        "temp_image = p1_2['df'].iloc[idx2].drop('time', axis=1)\n",
        "image = temp_image[temp_image.columns].values[0]\n",
        "image = image.reshape(12, 16)\n",
        "img = Image.fromarray((image * 255.0).astype('uint8'), mode='P')\n",
        "plt.imshow(img)\n",
        "plt.title('Depth Camera Person 1 Activity 2')\n"
      ]
    },
    {
      "cell_type": "code",
      "execution_count": 18,
      "metadata": {
        "colab": {
          "base_uri": "https://localhost:8080/",
          "height": 353
        },
        "id": "mtnUeVBOhibc",
        "outputId": "b36d5d5f-2989-4b2d-8444-5a2e07cd7768"
      },
      "outputs": [
        {
          "data": {
            "text/plain": [
              "Text(0.5, 1.0, 'Depth Camera Person 1 Activity 5')"
            ]
          },
          "execution_count": 18,
          "metadata": {},
          "output_type": "execute_result"
        },
        {
          "data": {
            "image/png": "[encoded data removed]",
            "text/plain": [
              "<Figure size 720x360 with 1 Axes>"
            ]
          },
          "metadata": {
            "needs_background": "light"
          },
          "output_type": "display_data"
        }
      ],
      "source": [
        "#Person 1 Activity 5\n",
        "\n",
        "idx1, idx2 = idx(p1_5)\n",
        "plt.figure(figsize=(10, 5))\n",
        "from PIL import Image\n",
        "temp_image = p1_5['df'].iloc[idx2].drop('time', axis=1)\n",
        "image = temp_image[temp_image.columns].values[0]\n",
        "image = image.reshape(12, 16)\n",
        "img = Image.fromarray((image * 255.0).astype('uint8'), mode='P')\n",
        "plt.imshow(img)\n",
        "plt.title('Depth Camera Person 1 Activity 5')"
      ]
    },
    {
      "cell_type": "code",
      "execution_count": 19,
      "metadata": {
        "colab": {
          "base_uri": "https://localhost:8080/",
          "height": 353
        },
        "id": "y6O7o9TRhij_",
        "outputId": "adc407db-4ca4-4c35-cc77-a653dfb992d1"
      },
      "outputs": [
        {
          "data": {
            "text/plain": [
              "Text(0.5, 1.0, 'Depth Camera Person 1 Activity 6')"
            ]
          },
          "execution_count": 19,
          "metadata": {},
          "output_type": "execute_result"
        },
        {
          "data": {
            "image/png": "[encoded data removed]",
            "text/plain": [
              "<Figure size 720x360 with 1 Axes>"
            ]
          },
          "metadata": {
            "needs_background": "light"
          },
          "output_type": "display_data"
        }
      ],
      "source": [
        "#Person 1 Activity 6\n",
        "\n",
        "idx1, idx2 = idx(p1_6)\n",
        "plt.figure(figsize=(10, 5))\n",
        "from PIL import Image\n",
        "temp_image = p1_6['df'].iloc[idx2].drop('time', axis=1)\n",
        "image = temp_image[temp_image.columns].values[0]\n",
        "image = image.reshape(12, 16)\n",
        "img = Image.fromarray((image * 255.0).astype('uint8'), mode='P')\n",
        "plt.imshow(img)\n",
        "plt.title('Depth Camera Person 1 Activity 6')"
      ]
    },
    {
      "cell_type": "code",
      "execution_count": 20,
      "metadata": {
        "colab": {
          "base_uri": "https://localhost:8080/",
          "height": 353
        },
        "id": "Q1IulZPq41Rv",
        "outputId": "e377421f-3436-4509-bd57-2117b11a50cc"
      },
      "outputs": [
        {
          "data": {
            "text/plain": [
              "Text(0.5, 1.0, 'Depth Camera Person 5 Activity 2')"
            ]
          },
          "execution_count": 20,
          "metadata": {},
          "output_type": "execute_result"
        },
        {
          "data": {
            "image/png": "[encoded data removed]",
            "text/plain": [
              "<Figure size 720x360 with 1 Axes>"
            ]
          },
          "metadata": {
            "needs_background": "light"
          },
          "output_type": "display_data"
        }
      ],
      "source": [
        "#Person 5 Activity 2\n",
        "idx1, idx2 = idx(p5_2)\n",
        "plt.figure(figsize=(10, 5))\n",
        "from PIL import Image\n",
        "temp_image = p5_2['df'].iloc[idx2].drop('time', axis=1)\n",
        "image = temp_image[temp_image.columns].values[0]\n",
        "image = image.reshape(12, 16)\n",
        "img = Image.fromarray((image * 255.0).astype('uint8'), mode='P')\n",
        "plt.imshow(img)\n",
        "plt.title('Depth Camera Person 5 Activity 2')"
      ]
    },
    {
      "cell_type": "code",
      "execution_count": 21,
      "metadata": {
        "colab": {
          "base_uri": "https://localhost:8080/",
          "height": 353
        },
        "id": "rQPKVOIi41ae",
        "outputId": "a78d7fd3-cbd3-45e0-bb6d-6058539b07de"
      },
      "outputs": [
        {
          "data": {
            "text/plain": [
              "Text(0.5, 1.0, 'Depth Camera Person 5 Activity 5')"
            ]
          },
          "execution_count": 21,
          "metadata": {},
          "output_type": "execute_result"
        },
        {
          "data": {
            "image/png": "[encoded data removed]",
            "text/plain": [
              "<Figure size 720x360 with 1 Axes>"
            ]
          },
          "metadata": {
            "needs_background": "light"
          },
          "output_type": "display_data"
        }
      ],
      "source": [
        "#Person 5 Activity 5\n",
        "\n",
        "idx1, idx2 = idx(p5_5)\n",
        "plt.figure(figsize=(10, 5))\n",
        "from PIL import Image\n",
        "temp_image = p5_5['df'].iloc[idx2].drop('time', axis=1)\n",
        "image = temp_image[temp_image.columns].values[0]\n",
        "image = image.reshape(12, 16)\n",
        "img = Image.fromarray((image * 255.0).astype('uint8'), mode='P')\n",
        "plt.imshow(img)\n",
        "plt.title('Depth Camera Person 5 Activity 5')"
      ]
    },
    {
      "cell_type": "code",
      "execution_count": 22,
      "metadata": {
        "colab": {
          "base_uri": "https://localhost:8080/",
          "height": 353
        },
        "id": "E8RZtsWl41fm",
        "outputId": "3af7de68-879e-4cdc-a2ea-685ff2e1e288"
      },
      "outputs": [
        {
          "data": {
            "text/plain": [
              "Text(0.5, 1.0, 'Depth Camera Person 5 Activity 6')"
            ]
          },
          "execution_count": 22,
          "metadata": {},
          "output_type": "execute_result"
        },
        {
          "data": {
            "image/png": "[encoded data removed]",
            "text/plain": [
              "<Figure size 720x360 with 1 Axes>"
            ]
          },
          "metadata": {
            "needs_background": "light"
          },
          "output_type": "display_data"
        }
      ],
      "source": [
        "#Person 5 Activity 6\n",
        "\n",
        "idx1, idx2 = idx(p5_6)\n",
        "plt.figure(figsize=(10, 5))\n",
        "from PIL import Image\n",
        "temp_image = p5_6['df'].iloc[idx2].drop('time', axis=1)\n",
        "image = temp_image[temp_image.columns].values[0]\n",
        "image = image.reshape(12, 16)\n",
        "img = Image.fromarray((image * 255.0).astype('uint8'), mode='P')\n",
        "plt.imshow(img)\n",
        "plt.title('Depth Camera Person 5 Activity 6')"
      ]
    },
    {
      "cell_type": "code",
      "execution_count": 22,
      "metadata": {
        "id": "FWM3JFti42L3"
      },
      "outputs": [],
      "source": []
    },
    {
      "cell_type": "markdown",
      "metadata": {
        "id": "z57nW56U_GI4"
      },
      "source": [
        "## 1.2 Train Test Split"
      ]
    },
    {
      "cell_type": "code",
      "execution_count": 23,
      "metadata": {
        "id": "zB0kVeI2hb5f"
      },
      "outputs": [],
      "source": [
        "test = df_records_windowed[(df_records_windowed['subject_id'] == '08') |\n",
        "                           (df_records_windowed['subject_id'] == '09') |\n",
        "                           (df_records_windowed['subject_id'] == '10')]\n"
      ]
    },
    {
      "cell_type": "code",
      "execution_count": 24,
      "metadata": {
        "id": "svzjlnz8BuIy"
      },
      "outputs": [],
      "source": [
        "train = df_records_windowed.drop(test.index)\n"
      ]
    },
    {
      "cell_type": "code",
      "execution_count": 92,
      "metadata": {
        "colab": {
          "base_uri": "https://localhost:8080/"
        },
        "id": "F-rzl5jOCy5S",
        "outputId": "4825ad82-90e3-4bdd-e2e8-17a59e3a967e"
      },
      "outputs": [
        {
          "name": "stdout",
          "output_type": "stream",
          "text": [
            "df_records:  160\n",
            "df_records_windowed:  4169\n",
            "test:  1196\n",
            "train:  2973\n"
          ]
        }
      ],
      "source": [
        "print('df_records: ', len(df_records))\n",
        "print('df_records_windowed: ',len(df_records_windowed))\n",
        "print('test: ',len(test))\n",
        "print('train: ',len(train))"
      ]
    },
    {
      "cell_type": "markdown",
      "metadata": {
        "id": "euDrl-qJJFfP",
        "nbgrader": {
          "grade": false,
          "grade_id": "cell-8dd9cccbd7bb483c",
          "locked": true,
          "schema_version": 3,
          "solution": false,
          "task": false
        }
      },
      "source": [
        "# 2. Feature extraction and fusion for unimodal classification"
      ]
    },
    {
      "cell_type": "markdown",
      "metadata": {
        "id": "cgzpxkAbJFfP",
        "nbgrader": {
          "grade": false,
          "grade_id": "cell-583b0e4a5d64720f",
          "locked": true,
          "schema_version": 3,
          "solution": false,
          "task": false
        }
      },
      "source": [
        "<a id='task2'></a>\n",
        "<div class=\" alert alert-warning\">\n",
        "    <b>Task 2.</b>\n",
        "\n",
        "Use the training dataset prepared in task 1. to build models based on the combination of principal component analysis (PCA), linear discriminant analysis (LDA), and nearest neighbour (NN) classifier for each modality separately and evaluate the model on test dataset. Do the subtasks given as\n",
        "<br>\n",
        "<br>\n",
        "<p> <b>2.1</b> Calculate PCA and LDA transformations to reduce the dimensionality of accelerometer data (e.g., using scikit-learn implementations). Before transformations downsample data from 100 Hz to 25 Hz (using scipy.signal.resample) to get 125x3 matrix of data for each 5 sec window. You should also standardize the values to zero mean and unit variance before the transformations. Using training dataset, fit PCA with 5-dimensional subspace (i.e., choosing the 5 largest principal components) and fit LDA with 5-dimensional subspace. Transform both train and test examples to this low-dimensional feature representation. Concatenate each sequence to single vector size of 3x(5+5). Perform the fusion of PCA and LDA similar manner as presented in Lecture 3 (pages 23-24) using NN method. Evaluate the performance on testset. Show confusion matrix and F1 scores of the results. </p>\n",
        "<br>\n",
        "<p> <b>2.2</b> Use PCA and LDA transformations to reduce the dimensionality of depth images. You should also standardize the values to zero mean and unit variance before the transformations. Fit PCA and LDA for all training images (12x16, 192-dimensional in vectorized form) by choosing 5-dimensional subspace for both PCA and LDA. Transform both train and test examples to this low-dimensional feature representation. Concatenate each sequence to single vector size of 5x1x(5+5). Similar to task 2.1, do the PCA and LDA fusion using NN and evaluate the performance on testset. Show confusion matrix and F1 scores of the results. </p>\n",
        "<br> \n",
        "Document your work, evaluate the results, and analyse the outcomes in each subtasks 2.1-2.2.\n",
        "    \n",
        "</div>"
      ]
    },
    {
      "cell_type": "code",
      "execution_count": 28,
      "metadata": {
        "id": "-niwqC3_K8SL"
      },
      "outputs": [],
      "source": [
        "from sklearn.decomposition import PCA\n",
        "from sklearn.preprocessing import StandardScaler\n",
        "from sklearn.discriminant_analysis import LinearDiscriminantAnalysis\n",
        "from sklearn.neighbors import KNeighborsClassifier\n",
        "from scipy import signal\n",
        "from sklearn import metrics\n",
        "scaler = StandardScaler()"
      ]
    },
    {
      "cell_type": "code",
      "execution_count": 29,
      "metadata": {
        "id": "fb4p7nLCRK7b"
      },
      "outputs": [],
      "source": [
        "train_acc = train[train['sensor'] == 'acc']\n",
        "train_dc = train[train['sensor'] == 'dc']\n",
        "test_acc = test[test['sensor'] == 'acc']\n",
        "test_dc = test[test['sensor'] == 'dc']"
      ]
    },
    {
      "cell_type": "code",
      "execution_count": 30,
      "metadata": {
        "colab": {
          "base_uri": "https://localhost:8080/"
        },
        "id": "uW18AEWcBfBx",
        "outputId": "5ea94aa9-73ab-4dca-af9b-59d4cb0c48e5"
      },
      "outputs": [
        {
          "name": "stderr",
          "output_type": "stream",
          "text": [
            "/usr/local/lib/python3.7/dist-packages/pandas/core/frame.py:4174: SettingWithCopyWarning: \n",
            "A value is trying to be set on a copy of a slice from a DataFrame\n",
            "\n",
            "See the caveats in the documentation: https://pandas.pydata.org/pandas-docs/stable/user_guide/indexing.html#returning-a-view-versus-a-copy\n",
            "  errors=errors,\n"
          ]
        }
      ],
      "source": [
        "#Dropping last window in acc training set\n",
        "train_acc.drop(train_acc.tail(1).index, inplace=True)"
      ]
    },
    {
      "cell_type": "markdown",
      "metadata": {
        "id": "4zUnzcBkXYCf"
      },
      "source": [
        "### Dropping time column"
      ]
    },
    {
      "cell_type": "code",
      "execution_count": 31,
      "metadata": {
        "colab": {
          "base_uri": "https://localhost:8080/",
          "height": 206
        },
        "id": "EmD5Gtr79C11",
        "outputId": "b05d4611-e541-4732-f377-b5531462f73b"
      },
      "outputs": [
        {
          "data": {
            "text/html": [
              "\n",
              "  <div id=\"df-67fc4675-cf03-4c0e-b8ea-0418fddb27fc\">\n",
              "    <div class=\"colab-df-container\">\n",
              "      <div>\n",
              "<style scoped>\n",
              "    .dataframe tbody tr th:only-of-type {\n",
              "        vertical-align: middle;\n",
              "    }\n",
              "\n",
              "    .dataframe tbody tr th {\n",
              "        vertical-align: top;\n",
              "    }\n",
              "\n",
              "    .dataframe thead th {\n",
              "        text-align: right;\n",
              "    }\n",
              "</style>\n",
              "<table border=\"1\" class=\"dataframe\">\n",
              "  <thead>\n",
              "    <tr style=\"text-align: right;\">\n",
              "      <th></th>\n",
              "      <th>acc_0</th>\n",
              "      <th>acc_1</th>\n",
              "      <th>acc_2</th>\n",
              "    </tr>\n",
              "  </thead>\n",
              "  <tbody>\n",
              "    <tr>\n",
              "      <th>0</th>\n",
              "      <td>-0.039062</td>\n",
              "      <td>0.0</td>\n",
              "      <td>-0.984375</td>\n",
              "    </tr>\n",
              "    <tr>\n",
              "      <th>1</th>\n",
              "      <td>-0.039062</td>\n",
              "      <td>0.0</td>\n",
              "      <td>-0.984375</td>\n",
              "    </tr>\n",
              "    <tr>\n",
              "      <th>2</th>\n",
              "      <td>-0.031250</td>\n",
              "      <td>0.0</td>\n",
              "      <td>-0.984375</td>\n",
              "    </tr>\n",
              "    <tr>\n",
              "      <th>3</th>\n",
              "      <td>-0.031250</td>\n",
              "      <td>0.0</td>\n",
              "      <td>-0.984375</td>\n",
              "    </tr>\n",
              "    <tr>\n",
              "      <th>4</th>\n",
              "      <td>-0.031250</td>\n",
              "      <td>0.0</td>\n",
              "      <td>-0.984375</td>\n",
              "    </tr>\n",
              "  </tbody>\n",
              "</table>\n",
              "</div>\n",
              "      <button class=\"colab-df-convert\" onclick=\"convertToInteractive('df-67fc4675-cf03-4c0e-b8ea-0418fddb27fc')\"\n",
              "              title=\"Convert this dataframe to an interactive table.\"\n",
              "              style=\"display:none;\">\n",
              "        \n",
              "  <svg xmlns=\"http://www.w3.org/2000/svg\" height=\"24px\"viewBox=\"0 0 24 24\"\n",
              "       width=\"24px\">\n",
              "    <path d=\"M0 0h24v24H0V0z\" fill=\"none\"/>\n",
              "    <path d=\"M18.56 5.44l.94 2.06.94-2.06 2.06-.94-2.06-.94-.94-2.06-.94 2.06-2.06.94zm-11 1L8.5 8.5l.94-2.06 2.06-.94-2.06-.94L8.5 2.5l-.94 2.06-2.06.94zm10 10l.94 2.06.94-2.06 2.06-.94-2.06-.94-.94-2.06-.94 2.06-2.06.94z\"/><path d=\"M17.41 7.96l-1.37-1.37c-.4-.4-.92-.59-1.43-.59-.52 0-1.04.2-1.43.59L10.3 9.45l-7.72 7.72c-.78.78-.78 2.05 0 2.83L4 21.41c.39.39.9.59 1.41.59.51 0 1.02-.2 1.41-.59l7.78-7.78 2.81-2.81c.8-.78.8-2.07 0-2.86zM5.41 20L4 18.59l7.72-7.72 1.47 1.35L5.41 20z\"/>\n",
              "  </svg>\n",
              "      </button>\n",
              "      \n",
              "  <style>\n",
              "    .colab-df-container {\n",
              "      display:flex;\n",
              "      flex-wrap:wrap;\n",
              "      gap: 12px;\n",
              "    }\n",
              "\n",
              "    .colab-df-convert {\n",
              "      background-color: #E8F0FE;\n",
              "      border: none;\n",
              "      border-radius: 50%;\n",
              "      cursor: pointer;\n",
              "      display: none;\n",
              "      fill: #1967D2;\n",
              "      height: 32px;\n",
              "      padding: 0 0 0 0;\n",
              "      width: 32px;\n",
              "    }\n",
              "\n",
              "    .colab-df-convert:hover {\n",
              "      background-color: #E2EBFA;\n",
              "      box-shadow: 0px 1px 2px rgba(60, 64, 67, 0.3), 0px 1px 3px 1px rgba(60, 64, 67, 0.15);\n",
              "      fill: #174EA6;\n",
              "    }\n",
              "\n",
              "    [theme=dark] .colab-df-convert {\n",
              "      background-color: #3B4455;\n",
              "      fill: #D2E3FC;\n",
              "    }\n",
              "\n",
              "    [theme=dark] .colab-df-convert:hover {\n",
              "      background-color: #434B5C;\n",
              "      box-shadow: 0px 1px 3px 1px rgba(0, 0, 0, 0.15);\n",
              "      filter: drop-shadow(0px 1px 2px rgba(0, 0, 0, 0.3));\n",
              "      fill: #FFFFFF;\n",
              "    }\n",
              "  </style>\n",
              "\n",
              "      <script>\n",
              "        const buttonEl =\n",
              "          document.querySelector('#df-67fc4675-cf03-4c0e-b8ea-0418fddb27fc button.colab-df-convert');\n",
              "        buttonEl.style.display =\n",
              "          google.colab.kernel.accessAllowed ? 'block' : 'none';\n",
              "\n",
              "        async function convertToInteractive(key) {\n",
              "          const element = document.querySelector('#df-67fc4675-cf03-4c0e-b8ea-0418fddb27fc');\n",
              "          const dataTable =\n",
              "            await google.colab.kernel.invokeFunction('convertToInteractive',\n",
              "                                                     [key], {});\n",
              "          if (!dataTable) return;\n",
              "\n",
              "          const docLinkHtml = 'Like what you see? Visit the ' +\n",
              "            '<a target=\"_blank\" href=https://colab.research.google.com/notebooks/data_table.ipynb>data table notebook</a>'\n",
              "            + ' to learn more about interactive tables.';\n",
              "          element.innerHTML = '';\n",
              "          dataTable['output_type'] = 'display_data';\n",
              "          await google.colab.output.renderOutput(dataTable, element);\n",
              "          const docLink = document.createElement('div');\n",
              "          docLink.innerHTML = docLinkHtml;\n",
              "          element.appendChild(docLink);\n",
              "        }\n",
              "      </script>\n",
              "    </div>\n",
              "  </div>\n",
              "  "
            ],
            "text/plain": [
              "      acc_0  acc_1     acc_2\n",
              "0 -0.039062    0.0 -0.984375\n",
              "1 -0.039062    0.0 -0.984375\n",
              "2 -0.031250    0.0 -0.984375\n",
              "3 -0.031250    0.0 -0.984375\n",
              "4 -0.031250    0.0 -0.984375"
            ]
          },
          "execution_count": 31,
          "metadata": {},
          "output_type": "execute_result"
        }
      ],
      "source": [
        "for i in range(len(train_acc['df'])):\n",
        "  train_acc['df'].iloc[i].drop('time', axis=1, inplace=True)\n",
        "\n",
        "train_acc['df'].iloc[0].head()"
      ]
    },
    {
      "cell_type": "code",
      "execution_count": 32,
      "metadata": {
        "id": "s647W-7gaoWM"
      },
      "outputs": [],
      "source": [
        "for i in range(len(test_acc['df'])):\n",
        "  test_acc['df'].iloc[i].drop('time', axis=1, inplace=True)\n"
      ]
    },
    {
      "cell_type": "code",
      "execution_count": 33,
      "metadata": {
        "id": "DDUFEGEEaoZF"
      },
      "outputs": [],
      "source": [
        "for i in range(len(train_dc['df'])):\n",
        "  train_dc['df'].iloc[i].drop('time', axis=1, inplace=True)\n"
      ]
    },
    {
      "cell_type": "code",
      "execution_count": 34,
      "metadata": {
        "id": "9p0I2U9paob4"
      },
      "outputs": [],
      "source": [
        "for i in range(len(test_dc['df'])):\n",
        "  test_dc['df'].iloc[i].drop('time', axis=1, inplace=True)\n"
      ]
    },
    {
      "cell_type": "markdown",
      "metadata": {
        "id": "ltItD8J3B0hN"
      },
      "source": [
        "## 2.1 Accelerometer PCA & LDA Fusion\n"
      ]
    },
    {
      "cell_type": "code",
      "execution_count": 35,
      "metadata": {
        "colab": {
          "base_uri": "https://localhost:8080/"
        },
        "id": "rJelhbln8K_k",
        "outputId": "4f9bec2a-1d4b-48f8-c660-b34a08159ba6"
      },
      "outputs": [
        {
          "name": "stdout",
          "output_type": "stream",
          "text": [
            "4458\n",
            "1794\n"
          ]
        }
      ],
      "source": [
        "# 2.1\n",
        "\n",
        "### Your code begins here ###\n",
        "\n",
        "\n",
        "#n_components cannot be larger than min(n_features, n_classes - 1) >> lda\n",
        "#n_components cannot be larger than min (n_features, num_samples) >> pca\n",
        "from scipy import stats\n",
        "a = signal.resample(train_acc['df'].iloc[0], 125)\n",
        "a = a.reshape(3, 125)\n",
        "a = stats.zscore(a)\n",
        "a = pd.DataFrame(a)\n",
        "a['target'] = train_acc.iloc[0]['exercise_id']\n",
        "\n",
        "b = signal.resample(train_acc['df'].iloc[1], 125)\n",
        "b = b.reshape(3, 125)\n",
        "b = stats.zscore(b)\n",
        "b = pd.DataFrame(b)\n",
        "b['target'] = train_acc.iloc[1]['exercise_id']\n",
        "\n",
        "train_acc_df = pd.concat([a, b], axis=0)\n",
        "\n",
        "for i in range(2, len(train_acc['df'])):\n",
        "  #print(i)\n",
        "  x = signal.resample(train_acc['df'].iloc[i], 125)\n",
        "  x = x.reshape(3, 125)\n",
        "  x = stats.zscore(x)\n",
        "  x = pd.DataFrame(x)\n",
        "  x['target'] = train_acc.iloc[i]['exercise_id']\n",
        "  train_acc_df = pd.concat([train_acc_df, x], axis=0)\n",
        "\n",
        "##########################################################################\n",
        "a = signal.resample(test_acc['df'].iloc[0], 125)\n",
        "a = a.reshape(3, 125)\n",
        "a = stats.zscore(a)\n",
        "a = pd.DataFrame(a)\n",
        "a['target'] = test_acc.iloc[0]['exercise_id']\n",
        "\n",
        "b = signal.resample(test_acc['df'].iloc[1], 125)\n",
        "b = b.reshape(3, 125)\n",
        "b = stats.zscore(b)\n",
        "b = pd.DataFrame(b)\n",
        "b['target'] = test_acc.iloc[1]['exercise_id']\n",
        "\n",
        "test_acc_df = pd.concat([a, b], axis=0)\n",
        "\n",
        "for i in range(2, len(test_acc['df'])):\n",
        "  #print(i)\n",
        "  x = signal.resample(test_acc['df'].iloc[i], 125)\n",
        "  x = x.reshape(3, 125)\n",
        "  x = stats.zscore(x)\n",
        "  x = pd.DataFrame(x)\n",
        "  x['target'] = test_acc.iloc[i]['exercise_id']\n",
        "  test_acc_df = pd.concat([test_acc_df, x], axis=0)  \n",
        "\n",
        "\n",
        "pca = PCA(n_components = 5) \n",
        "lda = LinearDiscriminantAnalysis(n_components = 5)\n",
        "pca_train = pca.fit_transform(train_acc_df.drop('target', axis=1))\n",
        "components = pca.components_ \n",
        "lda_train = lda.fit_transform(train_acc_df.drop('target', axis=1), train_acc_df['target'])\n",
        "pca_test = pca.transform(test_acc_df.drop('target', axis=1))\n",
        "lda_test = lda.transform(test_acc_df.drop('target', axis=1))\n",
        "\n",
        "print(len(pca_train))\n",
        "print(len(pca_test))"
      ]
    },
    {
      "cell_type": "code",
      "execution_count": 36,
      "metadata": {
        "colab": {
          "base_uri": "https://localhost:8080/"
        },
        "id": "mmcNa4p1fj5O",
        "outputId": "d61d697d-1533-4619-f4c9-d813bdea9148"
      },
      "outputs": [
        {
          "data": {
            "text/plain": [
              "(4458, 126)"
            ]
          },
          "execution_count": 36,
          "metadata": {},
          "output_type": "execute_result"
        }
      ],
      "source": [
        "train_acc_df.shape"
      ]
    },
    {
      "cell_type": "code",
      "execution_count": 37,
      "metadata": {
        "id": "A3z_QcRVgZbO"
      },
      "outputs": [],
      "source": [
        "#Flattening the 3 channels in PCA & LDA\n",
        "\n",
        "pca_train_flattened = []\n",
        "for i in range(0, len(pca_train), 3):\n",
        "  pca_train_flattened.append(list(pca_train[i]) + list(pca_train[i+1]) + list(pca_train[i+2]))\n",
        "\n",
        "lda_train_flattened = []\n",
        "for i in range(0, len(lda_train), 3):\n",
        "  lda_train_flattened.append(list(lda_train[i]) + list(lda_train[i+1]) + list(lda_train[i+2]))\n",
        "\n",
        "pca_test_flattened = []\n",
        "for i in range(0, len(pca_test), 3):\n",
        "  pca_test_flattened.append(list(pca_test[i]) + list(pca_test[i+1]) + list(pca_test[i+2]))\n",
        "\n",
        "lda_test_flattened = []\n",
        "for i in range(0, len(lda_test), 3):\n",
        "  lda_test_flattened.append(list(lda_test[i]) + list(lda_test[i+1]) + list(lda_test[i+2]))"
      ]
    },
    {
      "cell_type": "code",
      "execution_count": 38,
      "metadata": {
        "id": "XJeWr7mJgZgF"
      },
      "outputs": [],
      "source": [
        "pca_res_ex = []\n",
        "pca_res = []\n",
        "for i in range(len(pca_test_flattened)):\n",
        "  pca_res_ex = np.power(np.array(pca_test_flattened[i]) - np.array(pca_train_flattened), 2)\n",
        "  \n",
        "  pca_res.append(np.sum(pca_res_ex, axis = 1))"
      ]
    },
    {
      "cell_type": "code",
      "execution_count": 39,
      "metadata": {
        "id": "r8NIsCL7gZkR"
      },
      "outputs": [],
      "source": [
        "lda_res_ex = []\n",
        "lda_res = []\n",
        "for i in range(len(lda_test_flattened)):\n",
        "\n",
        "  lda_res_ex = np.power(np.array(lda_test_flattened[i]) - np.array(lda_train_flattened), 2)\n",
        "  lda_res.append(np.sum(lda_res_ex, axis = 1))\n",
        "\n"
      ]
    },
    {
      "cell_type": "code",
      "execution_count": 40,
      "metadata": {
        "id": "XbdHBwF5gZoG"
      },
      "outputs": [],
      "source": [
        "from sklearn.preprocessing import minmax_scale \n",
        "pca_norm = minmax_scale(pca_res, feature_range=(0, 1), axis= 1, copy=True)\n",
        "lda_norm = minmax_scale(lda_res, feature_range=(0, 1), axis= 1, copy=True)\n",
        "\n",
        "pca_norm = pd.DataFrame(pca_norm)\n",
        "lda_norm = pd.DataFrame(lda_norm)\n",
        "\n",
        "lda_pca = pd.DataFrame(pca_norm)\n",
        "lda_pca = (pca_norm + lda_norm) / 2\n"
      ]
    },
    {
      "cell_type": "code",
      "execution_count": 41,
      "metadata": {
        "id": "uCGJifHCjdpu"
      },
      "outputs": [],
      "source": [
        "##Acc Target Train\n",
        "train_target_acc = []\n",
        "for i in range(0, len(train_acc_df), 3):\n",
        "  train_target_acc.append(train_acc_df['target'].iloc[i])\n",
        "\n",
        "train_target_acc = pd.DataFrame(train_target_acc)\n",
        "\n",
        "test_target_acc = []\n",
        "\n",
        "##Acc Target Test\n",
        "for i in range(0, len(test_acc_df), 3):\n",
        "  test_target_acc.append(test_acc_df['target'].iloc[i])\n",
        "\n",
        "test_target_acc = pd.DataFrame(test_target_acc)\n"
      ]
    },
    {
      "cell_type": "code",
      "execution_count": 42,
      "metadata": {
        "id": "wENVD-kjjdsf"
      },
      "outputs": [],
      "source": [
        "target_pca_lda = []\n",
        "label_pca_lda = []\n",
        "\n",
        "for i in range(len(lda_pca)):\n",
        "\n",
        "  t = np.argmin(lda_pca.iloc[i])\n",
        "  target_pca_lda.append(train_target_acc.iloc[t][0])\n",
        "  label_pca_lda.append(test_target_acc.iloc[i][0])\n",
        "\n",
        "\n"
      ]
    },
    {
      "cell_type": "code",
      "execution_count": 43,
      "metadata": {
        "id": "Q_mwuas9uOCm"
      },
      "outputs": [],
      "source": [
        "label = pd.DataFrame(label_pca_lda)\n",
        "target = pd.DataFrame(target_pca_lda)"
      ]
    },
    {
      "cell_type": "code",
      "execution_count": 44,
      "metadata": {
        "colab": {
          "base_uri": "https://localhost:8080/",
          "height": 366
        },
        "id": "z9g9rcbYuvhL",
        "outputId": "57986d4f-720b-4094-bdcd-9c3367424bee"
      },
      "outputs": [
        {
          "name": "stdout",
          "output_type": "stream",
          "text": [
            "F1 score:  [0.16129032 0.30769231 0.34042553 0.56756757 0.60377358 0.39593909\n",
            " 0.33103448]\n",
            "Confusion matrix: \n",
            "\n"
          ]
        },
        {
          "data": {
            "text/plain": [
              "<sklearn.metrics._plot.confusion_matrix.ConfusionMatrixDisplay at 0x7fc9c5d27fd0>"
            ]
          },
          "execution_count": 44,
          "metadata": {},
          "output_type": "execute_result"
        },
        {
          "data": {
            "image/png": "[encoded data removed]",
            "text/plain": [
              "<Figure size 432x288 with 2 Axes>"
            ]
          },
          "metadata": {
            "needs_background": "light"
          },
          "output_type": "display_data"
        }
      ],
      "source": [
        "print(\"F1 score: \", metrics.f1_score(label, target, average=None))\n",
        "print(\"Confusion matrix: \\n\", )\n",
        "cm = metrics.confusion_matrix(label, target)\n",
        "metrics.ConfusionMatrixDisplay(cm).plot()\n",
        "\n",
        "### Your code ends here ###"
      ]
    },
    {
      "cell_type": "markdown",
      "metadata": {
        "id": "oka1Vkzj8823"
      },
      "source": [
        "## DC\n"
      ]
    },
    {
      "cell_type": "code",
      "execution_count": 47,
      "metadata": {
        "colab": {
          "base_uri": "https://localhost:8080/"
        },
        "id": "tuEaNvoGjeDP",
        "outputId": "33d9c2ab-227a-431d-d257-4f066d908afb"
      },
      "outputs": [
        {
          "name": "stdout",
          "output_type": "stream",
          "text": [
            "7430\n",
            "2990\n"
          ]
        }
      ],
      "source": [
        "# 2.2\n",
        "\n",
        "### Your code begins here ###\n",
        "\n",
        "\n",
        "#Train\n",
        "a = stats.zscore(train_dc['df'].iloc[0], axis = 1)\n",
        "a = pd.DataFrame(a)\n",
        "a['target'] = train_dc.iloc[0]['exercise_id']\n",
        "\n",
        "b = stats.zscore(train_dc['df'].iloc[1], axis = 1)\n",
        "b = pd.DataFrame(b)\n",
        "b['target'] = train_dc.iloc[1]['exercise_id']\n",
        "\n",
        "train_dc_df = pd.concat([a, b], axis=0)\n",
        "\n",
        "for i in range(2, len(train_dc['df'])):\n",
        "  \n",
        "  x = stats.zscore(train_dc['df'].iloc[i], axis = 1)\n",
        "  x = pd.DataFrame(x)\n",
        "  x['target'] = train_dc.iloc[i]['exercise_id']\n",
        "  train_dc_df = pd.concat([train_dc_df, x], axis=0)\n",
        "\n",
        "#Test\n",
        "a = stats.zscore(test_dc['df'].iloc[0], axis = 1)\n",
        "\n",
        "a = pd.DataFrame(a)\n",
        "a['target'] = test_dc.iloc[0]['exercise_id']\n",
        "\n",
        "b = stats.zscore(test_dc['df'].iloc[1], axis = 1)\n",
        "b = pd.DataFrame(b)\n",
        "b['target'] = test_dc.iloc[1]['exercise_id']\n",
        "\n",
        "test_dc_df = pd.concat([a, b], axis=0)\n",
        "\n",
        "for i in range(2, len(test_dc['df'])):\n",
        "  \n",
        "  x = stats.zscore(test_dc['df'].iloc[i], axis = 1)\n",
        "\n",
        "  x = pd.DataFrame(x)\n",
        "  x['target'] = test_dc.iloc[i]['exercise_id']\n",
        "  test_dc_df = pd.concat([test_dc_df, x], axis=0)\n",
        "\n",
        "pca = PCA(n_components = 5) \n",
        "lda = LinearDiscriminantAnalysis(n_components = 5)\n",
        "pca_train = pca.fit_transform(train_dc_df.drop('target', axis=1))\n",
        "components = pca.components_ \n",
        "lda_train = lda.fit_transform(train_dc_df.drop('target', axis=1), train_dc_df['target'])\n",
        "pca_test = pca.transform(test_dc_df.drop('target', axis=1))\n",
        "lda_test = lda.transform(test_dc_df.drop('target', axis=1))\n",
        "\n",
        "### Your code ends here ###\n",
        "\n",
        "print(len(pca_train))\n",
        "print(len(pca_test))"
      ]
    },
    {
      "cell_type": "code",
      "execution_count": 48,
      "metadata": {
        "id": "mNI-fCH79NRj"
      },
      "outputs": [],
      "source": [
        "pca_train_flattened = []\n",
        "for i in range(0, len(pca_train), 5):\n",
        "  pca_train_flattened.append(list(pca_train[i]) + list(pca_train[i+1]) + list(pca_train[i+2] + list(pca_train[i+3]) + list(pca_train[i+4])))\n",
        "\n",
        "lda_train_flattened = []\n",
        "for i in range(0, len(lda_train), 5):\n",
        "  lda_train_flattened.append(list(lda_train[i]) + list(lda_train[i+1]) + list(lda_train[i+2] + list(lda_train[i+3]) + list(lda_train[i+4])))\n",
        "\n",
        "pca_test_flattened = []\n",
        "for i in range(0, len(pca_test), 5):\n",
        "  pca_test_flattened.append(list(pca_test[i]) + list(pca_test[i+1]) + list(pca_test[i+2]  + list(pca_test[i+3]) + list(pca_test[i+4])))\n",
        "\n",
        "lda_test_flattened = []\n",
        "for i in range(0, len(lda_test), 5):\n",
        "  lda_test_flattened.append(list(lda_test[i]) + list(lda_test[i+1]) + list(lda_test[i+2] + list(lda_test[i+3]) + list(lda_test[i+4])))"
      ]
    },
    {
      "cell_type": "code",
      "execution_count": 49,
      "metadata": {
        "id": "Y4uJUkbm9NOk"
      },
      "outputs": [],
      "source": [
        "pca_res_ex = []\n",
        "pca_res = []\n",
        "for i in range(len(pca_test_flattened)):\n",
        "  pca_res_ex = np.power(np.array(pca_test_flattened[i]) - np.array(pca_train_flattened), 2)\n",
        "  \n",
        "  pca_res.append(np.sum(pca_res_ex, axis = 1))\n",
        "  "
      ]
    },
    {
      "cell_type": "code",
      "execution_count": 50,
      "metadata": {
        "id": "DEgg2nni9NLE"
      },
      "outputs": [],
      "source": [
        "lda_res_ex = []\n",
        "lda_res = []\n",
        "for i in range(len(lda_test_flattened)):\n",
        "\n",
        "  lda_res_ex = np.power(np.array(lda_test_flattened[i]) - np.array(lda_train_flattened), 2)\n",
        "  lda_res.append(np.sum(lda_res_ex, axis = 1))\n",
        "\n"
      ]
    },
    {
      "cell_type": "code",
      "execution_count": 51,
      "metadata": {
        "id": "tNyKHG0F9NIk"
      },
      "outputs": [],
      "source": [
        "from sklearn.preprocessing import minmax_scale \n",
        "pca_norm = minmax_scale(pca_res, feature_range=(0, 1), axis= 1, copy=True)\n",
        "lda_norm = minmax_scale(lda_res, feature_range=(0, 1), axis= 1, copy=True)\n",
        "\n",
        "pca_norm = pd.DataFrame(pca_norm)\n",
        "lda_norm = pd.DataFrame(lda_norm)\n",
        "\n",
        "lda_pca = pd.DataFrame(pca_norm)\n",
        "lda_pca = (pca_norm + lda_norm) / 2\n",
        "#pd.DataFrame(pca_norm)"
      ]
    },
    {
      "cell_type": "code",
      "execution_count": 52,
      "metadata": {
        "id": "zShItjgP_AOe"
      },
      "outputs": [],
      "source": [
        "##Target Train\n",
        "train_target_dc = []\n",
        "for i in range(0, len(train_dc_df), 5):\n",
        "  train_target_dc.append(train_dc_df['target'].iloc[i])\n",
        "\n",
        "train_target_dc = pd.DataFrame(train_target_dc)\n",
        "\n",
        "test_target_dc = []\n",
        "\n",
        "##Target Test\n",
        "for i in range(0, len(test_dc_df), 5):\n",
        "  test_target_dc.append(test_dc_df['target'].iloc[i])\n",
        "\n",
        "test_target_dc = pd.DataFrame(test_target_dc)"
      ]
    },
    {
      "cell_type": "code",
      "execution_count": 53,
      "metadata": {
        "id": "eKiuAo5U9NGN"
      },
      "outputs": [],
      "source": [
        "target_pca_lda = []\n",
        "label_pca_lda = []\n",
        "\n",
        "for i in range(len(lda_pca)):\n",
        "\n",
        "  t = np.argmin(lda_pca.iloc[i])\n",
        "  target_pca_lda.append(train_target_dc.iloc[t][0])\n",
        "  label_pca_lda.append(test_target_dc.iloc[i][0])\n",
        "\n",
        "\n"
      ]
    },
    {
      "cell_type": "code",
      "execution_count": 54,
      "metadata": {
        "id": "Yw7Tza63_Z7w"
      },
      "outputs": [],
      "source": [
        "label = pd.DataFrame(label_pca_lda)\n",
        "target = pd.DataFrame(target_pca_lda)"
      ]
    },
    {
      "cell_type": "markdown",
      "metadata": {
        "id": "qrjUbb7g_2zn"
      },
      "source": [
        "### DC\n",
        "\n"
      ]
    },
    {
      "cell_type": "code",
      "execution_count": 55,
      "metadata": {
        "colab": {
          "base_uri": "https://localhost:8080/",
          "height": 370
        },
        "id": "9rWLEag99NDH",
        "outputId": "54d07e58-8966-45cf-b81d-4f15089a7c7f"
      },
      "outputs": [
        {
          "name": "stdout",
          "output_type": "stream",
          "text": [
            "F1 score:  [0.57028112 0.47727273 0.13445378 0.71428571 1.         0.4957265\n",
            " 0.74235808]\n",
            "Confusion matrix: \n",
            "\n"
          ]
        },
        {
          "data": {
            "text/plain": [
              "<sklearn.metrics._plot.confusion_matrix.ConfusionMatrixDisplay at 0x7fc9c5c25990>"
            ]
          },
          "execution_count": 55,
          "metadata": {},
          "output_type": "execute_result"
        },
        {
          "data": {
            "image/png": "[encoded data removed]",
            "text/plain": [
              "<Figure size 432x288 with 2 Axes>"
            ]
          },
          "metadata": {
            "needs_background": "light"
          },
          "output_type": "display_data"
        }
      ],
      "source": [
        "\n",
        "print(\"F1 score: \", metrics.f1_score(label,target,average=None))\n",
        "print(\"Confusion matrix: \\n\", )\n",
        "cm = metrics.confusion_matrix(label, target)\n",
        "metrics.ConfusionMatrixDisplay(cm).plot()\n",
        "\n",
        "### Your code ends here ###"
      ]
    },
    {
      "cell_type": "markdown",
      "metadata": {
        "id": "sPIsbgS3JFfR",
        "nbgrader": {
          "grade": false,
          "grade_id": "cell-6c349269722f7b4d",
          "locked": true,
          "schema_version": 3,
          "solution": false,
          "task": false
        }
      },
      "source": [
        "# 3. Feature extraction and feature-level fusion for multimodal classification"
      ]
    },
    {
      "cell_type": "markdown",
      "metadata": {
        "id": "aqOmzGHPJFfS",
        "nbgrader": {
          "grade": false,
          "grade_id": "cell-61ec26decd69ed9d",
          "locked": true,
          "schema_version": 3,
          "solution": false,
          "task": false
        }
      },
      "source": [
        "<a id='task3'></a>\n",
        "<div class=\" alert alert-warning\">\n",
        "    <b>Task 3.</b>\n",
        "\n",
        "Prepare new feature sets for each modality and combine them to single feature representation. Compare two classifiers from scikit-learn. Train classifiers using joint feature presentation. Evaluate and compare the result using testing dataset. Do the subtasks given as\n",
        "<br>   \n",
        "<br> \n",
        "<p> <b>3.1</b> Similar to task 2.1, calculate PCA for accelerometer, but choose now the 10 largest principal components as 10-dim feature vector for each window. In addition, for each window calculate mean and standard deviation of each three acc channels as statistical features, resulting 6-dimensional vector. Combine these to 36-dimensional final feature vector.</p>\n",
        "<br>  \n",
        "<p> <b>3.2</b> Similar to task 2.2, calculate the PCA for depth images using same setup, but now choose the 10 largest principal components as feature vector. Concatenate the image sequence forming 50-dimensional feature vector from each windowed example.</p>\n",
        "<br> \n",
        "<p> <b>3.3</b> Form a joint feature presentation of features extracted in 3.1 and 3.2, resulting 86-dimensional feature vector for each example. Normalize data between 0-1 using the training dataset. Use support vector machine (SVM) with RBF-kernel and Gaussian naiveBayes classifier (use default parameter values for both classifiers). Train the classifiers and evaluate and compare classifiers on testset using confusion matrices and F1 scores.</p>\n",
        "<br> \n",
        "Document your work, evaluate the results, and analyse the outcomes in each subtasks 3.1-3.3.\n",
        "    \n",
        "</div>"
      ]
    },
    {
      "cell_type": "markdown",
      "metadata": {
        "id": "OFq5g4j9BsuO"
      },
      "source": [
        "# 3.1 Concatenating Acc channels (36-dim)\n"
      ]
    },
    {
      "cell_type": "code",
      "execution_count": 58,
      "metadata": {
        "id": "RdtDj_euaE5p"
      },
      "outputs": [],
      "source": [
        "# 3.1\n",
        "\n",
        "### Your code begins here ###\n",
        "train_acc_df['mean'] = np.mean(train_acc_df.drop('target', axis=1), axis=1)\n",
        "test_acc_df['mean'] = np.mean(test_acc_df.drop('target', axis=1), axis=1)\n",
        "train_acc_df['std'] = np.std(train_acc_df.drop('target', axis=1), axis=1)\n",
        "test_acc_df['std'] = np.std(test_acc_df.drop('target', axis=1), axis=1)\n",
        "#len(test_acc_df['std'])\n",
        "#train_acc_df.drop('target', axis=1)"
      ]
    },
    {
      "cell_type": "code",
      "execution_count": 59,
      "metadata": {
        "id": "cYsooQszPxVL"
      },
      "outputs": [],
      "source": [
        "train_acc_df['mean'].reset_index().drop('index', axis=1, inplace=True)\n",
        "test_acc_df['mean'].reset_index().drop('index', axis=1, inplace=True)\n",
        "train_acc_df['std'].reset_index().drop('index', axis=1, inplace=True)\n",
        "test_acc_df['std'].reset_index().drop('index', axis=1, inplace=True)"
      ]
    },
    {
      "cell_type": "code",
      "execution_count": 60,
      "metadata": {
        "colab": {
          "base_uri": "https://localhost:8080/"
        },
        "id": "UZ0Gl8BTaE9i",
        "outputId": "41ce6319-5ccc-435b-c639-55e5a732fd32"
      },
      "outputs": [
        {
          "name": "stdout",
          "output_type": "stream",
          "text": [
            "4458\n",
            "10\n"
          ]
        }
      ],
      "source": [
        "pca = PCA(n_components = 10) \n",
        "pca_train = pca.fit_transform(train_acc_df.drop(['mean', 'std', 'target'], axis=1))\n",
        "pca_test = pca.transform(test_acc_df.drop(['mean', 'std', 'target'], axis=1))\n",
        "\n",
        "print(len(pca_train))\n",
        "print(len(pca_train[0]))"
      ]
    },
    {
      "cell_type": "code",
      "execution_count": 61,
      "metadata": {
        "id": "2kERR607Raj4"
      },
      "outputs": [],
      "source": [
        "pca_train = pd.DataFrame(pca_train)\n",
        "pca_test = pd.DataFrame(pca_test)"
      ]
    },
    {
      "cell_type": "code",
      "execution_count": 62,
      "metadata": {
        "id": "MdumcnlGRd1t"
      },
      "outputs": [],
      "source": [
        "pca_train['mean'] = train_acc_df['mean'].values\n",
        "pca_train['std'] = train_acc_df['std'].values\n",
        "pca_test['mean'] = test_acc_df['mean'].values\n",
        "pca_test['std'] = test_acc_df['std'].values\n"
      ]
    },
    {
      "cell_type": "code",
      "execution_count": 63,
      "metadata": {
        "id": "4hzOaNbuA-wE"
      },
      "outputs": [],
      "source": [
        "#Acc train 36-dim concat vector \n",
        "pca_train_concat_acc = []\n",
        "for i in range(0, len(pca_train), 3):\n",
        "  pca_train_concat_acc.append(np.concatenate([pca_train.iloc[i], pca_train.iloc[i+1], pca_train.iloc[i+2]], axis=0))\n",
        "\n",
        "#pd.DataFrame(pca_train_concat_acc)"
      ]
    },
    {
      "cell_type": "code",
      "execution_count": 64,
      "metadata": {
        "colab": {
          "base_uri": "https://localhost:8080/"
        },
        "id": "inwe4_Q-BAgy",
        "outputId": "85758c8d-ff68-4127-bb6c-4d3b0e525f33"
      },
      "outputs": [
        {
          "data": {
            "text/plain": [
              "36"
            ]
          },
          "execution_count": 64,
          "metadata": {},
          "output_type": "execute_result"
        }
      ],
      "source": [
        "#Acc Test 36-dim concat vector \n",
        "pca_test_concat_acc = []\n",
        "for i in range(0, len(pca_test), 3):\n",
        "  pca_test_concat_acc.append(np.concatenate([pca_test.iloc[i], pca_test.iloc[i+1], pca_test.iloc[i+2]], axis=0))\n",
        "  \n",
        "len(pca_test_concat_acc[0])\n"
      ]
    },
    {
      "cell_type": "code",
      "execution_count": 65,
      "metadata": {
        "id": "TZX-3aOtDGO1"
      },
      "outputs": [],
      "source": [
        "df_acc_vector_train = pd.DataFrame(pca_train_concat_acc)\n",
        "df_acc_vector_test = pd.DataFrame(pca_test_concat_acc)\n",
        "\n",
        "### Your code ends here ###\n"
      ]
    },
    {
      "cell_type": "markdown",
      "metadata": {
        "id": "Fkt9NAUhCQtR"
      },
      "source": [
        "# 3.2 Concatenating DC channels (50-dim)\n"
      ]
    },
    {
      "cell_type": "code",
      "execution_count": 66,
      "metadata": {
        "colab": {
          "base_uri": "https://localhost:8080/"
        },
        "id": "HnXWmMh_BAjc",
        "outputId": "69fc935b-c207-4dab-dc65-dc164ec8afe7"
      },
      "outputs": [
        {
          "name": "stdout",
          "output_type": "stream",
          "text": [
            "7430\n",
            "10\n"
          ]
        }
      ],
      "source": [
        "# 3.2\n",
        "\n",
        "### Your code begins here ###\n",
        "pca = PCA(n_components = 10) \n",
        "pca_train_dc = pca.fit_transform(train_dc_df.drop(['target'], axis=1))\n",
        "pca_test_dc = pca.transform(test_dc_df.drop(['target'], axis=1))\n",
        "\n",
        "print(len(pca_train_dc))\n",
        "print(len(pca_train_dc[0]))\n",
        "pca_train_dc = pd.DataFrame(pca_train_dc)\n",
        "pca_test_dc = pd.DataFrame(pca_test_dc)\n",
        "#pca_train_dc\n"
      ]
    },
    {
      "cell_type": "code",
      "execution_count": 67,
      "metadata": {
        "colab": {
          "base_uri": "https://localhost:8080/"
        },
        "id": "axb0F8KeBApj",
        "outputId": "379c90b0-e80c-4c39-95e6-46dd79745a88"
      },
      "outputs": [
        {
          "data": {
            "text/plain": [
              "50"
            ]
          },
          "execution_count": 67,
          "metadata": {},
          "output_type": "execute_result"
        }
      ],
      "source": [
        "#PCA train 50-dim concat vector dc\n",
        "pca_train_concat_dc = []\n",
        "for i in range(0, len(pca_train_dc), 5):\n",
        "  pca_train_concat_dc.append(np.concatenate([pca_train_dc.iloc[i], pca_train_dc.iloc[i+1], pca_train_dc.iloc[i+2], pca_train_dc.iloc[i+3], pca_train_dc.iloc[i+4]], axis=0))\n",
        "\n",
        "len(pca_train_concat_dc[0])\n"
      ]
    },
    {
      "cell_type": "code",
      "execution_count": 68,
      "metadata": {
        "colab": {
          "base_uri": "https://localhost:8080/"
        },
        "id": "K6EM-rO3BAtp",
        "outputId": "84790416-94bf-460a-ec88-bd47602e4c53"
      },
      "outputs": [
        {
          "data": {
            "text/plain": [
              "598"
            ]
          },
          "execution_count": 68,
          "metadata": {},
          "output_type": "execute_result"
        }
      ],
      "source": [
        "#PCA test 50-dim concat vector dc\n",
        "pca_test_concat_dc = []\n",
        "for i in range(0, len(pca_test_dc), 5):\n",
        "  pca_test_concat_dc.append(np.concatenate([pca_test_dc.iloc[i], pca_test_dc.iloc[i+1], pca_test_dc.iloc[i+2], pca_test_dc.iloc[i+3], pca_test_dc.iloc[i+4]], axis=0))\n",
        "\n",
        "len(pca_test_concat_dc)"
      ]
    },
    {
      "cell_type": "code",
      "execution_count": 69,
      "metadata": {
        "colab": {
          "base_uri": "https://localhost:8080/"
        },
        "id": "ykwFfj3zCnjF",
        "outputId": "f0734d6c-751f-4738-cf0b-230021a98c0f"
      },
      "outputs": [
        {
          "data": {
            "text/plain": [
              "1486"
            ]
          },
          "execution_count": 69,
          "metadata": {},
          "output_type": "execute_result"
        }
      ],
      "source": [
        "#Creating them as dataframes\n",
        "df_dc_vector_train = pd.DataFrame(pca_train_concat_dc)\n",
        "df_dc_vector_test = pd.DataFrame(pca_test_concat_dc)\n",
        "\n",
        "len(df_dc_vector_train)\n",
        "\n",
        "\n",
        "### Your code ends here ###"
      ]
    },
    {
      "cell_type": "markdown",
      "metadata": {
        "id": "vM6GcMZSCvi2"
      },
      "source": [
        "# 3.3 Concatenating Acc & DC channels (86-dim)\n"
      ]
    },
    {
      "cell_type": "code",
      "execution_count": 70,
      "metadata": {
        "id": "EBJjAATiCnln"
      },
      "outputs": [],
      "source": [
        "# 3.3\n",
        "\n",
        "### Your code begins here ###\n",
        "\n",
        "#Concatenating acc and dc to 1486 x 86 dataframe\n",
        "acc_dc_window_train_0 = np.concatenate([df_acc_vector_train.iloc[0], df_dc_vector_train.iloc[0]], axis=0)\n",
        "acc_dc_window_train_0 = pd.DataFrame(acc_dc_window_train_0)\n",
        "acc_dc_window_train_1 = np.concatenate([df_acc_vector_train.iloc[1], df_dc_vector_train.iloc[1]], axis=0)\n",
        "acc_dc_window_train_1 = pd.DataFrame(acc_dc_window_train_1)\n",
        "\n",
        "acc_dc_full_train = np.concatenate([acc_dc_window_train_0, acc_dc_window_train_1], axis=1)\n",
        "acc_dc_full_train = pd.DataFrame(acc_dc_full_train)\n",
        "\n",
        "for i in range(2, len(df_dc_vector_train)):\n",
        "  acc_dc_window_train = np.concatenate([df_acc_vector_train.iloc[i], df_dc_vector_train.iloc[i]], axis=0)\n",
        "  acc_dc_window_train = pd.DataFrame(acc_dc_window_train)\n",
        "  acc_dc_full_train = pd.concat([acc_dc_full_train, acc_dc_window_train], axis=1)\n",
        "  \n",
        "acc_dc_full_train = acc_dc_full_train.transpose()\n",
        "\n",
        "#acc_dc_full_train"
      ]
    },
    {
      "cell_type": "code",
      "execution_count": 71,
      "metadata": {
        "id": "Dbr4tswRFG8d"
      },
      "outputs": [],
      "source": [
        "#Concatenating into 598 x 86 dataframe that has acc and dc \n",
        "acc_dc_window_test_0 = pd.concat([df_acc_vector_test.iloc[0], df_dc_vector_test.iloc[0]], axis=0)\n",
        "acc_dc_window_test_1 = pd.concat([df_acc_vector_test.iloc[1], df_dc_vector_test.iloc[1]], axis=0)\n",
        "\n",
        "acc_dc_full_test = pd.concat([acc_dc_window_test_0, acc_dc_window_test_1], axis=1)\n",
        "\n",
        "for i in range(2, len(df_dc_vector_test)):\n",
        "  acc_dc_window_test = pd.concat([df_acc_vector_test.iloc[i], df_dc_vector_test.iloc[i]], axis=0)\n",
        "  acc_dc_full_test = pd.concat([acc_dc_full_test, acc_dc_window_test], axis=1)\n",
        "  \n",
        "acc_dc_full_test = acc_dc_full_test.transpose()\n",
        "#acc_dc_full_test\n"
      ]
    },
    {
      "cell_type": "code",
      "execution_count": 72,
      "metadata": {
        "id": "KGjcooo9Cnop"
      },
      "outputs": [],
      "source": [
        "from sklearn.preprocessing import minmax_scale\n",
        "from sklearn.preprocessing import MinMaxScaler\n",
        "\n",
        "# define min max scaler\n",
        "scaler = MinMaxScaler( )\n",
        "# transform data\n",
        "\n",
        "\n",
        "normalized_full_train = minmax_scale(acc_dc_full_train, feature_range=(0, 1), axis=1, copy=True)\n",
        "normalized_full_test = minmax_scale(acc_dc_full_test, feature_range=(0, 1), axis=1, copy=True)\n",
        "\n",
        "normalized_full_train = pd.DataFrame(normalized_full_train)\n",
        "normalized_full_test = pd.DataFrame(normalized_full_test)\n"
      ]
    },
    {
      "cell_type": "markdown",
      "metadata": {
        "id": "DtxdYImZDgbe"
      },
      "source": [
        "## 3.3 SVM (RBF Kernel)\n"
      ]
    },
    {
      "cell_type": "code",
      "execution_count": 96,
      "metadata": {
        "colab": {
          "base_uri": "https://localhost:8080/",
          "height": 421
        },
        "id": "2OaXuKvYEwzd",
        "outputId": "6ae48a90-f066-44fd-f974-dda0b488f784"
      },
      "outputs": [
        {
          "name": "stderr",
          "output_type": "stream",
          "text": [
            "/usr/local/lib/python3.7/dist-packages/sklearn/utils/validation.py:993: DataConversionWarning: A column-vector y was passed when a 1d array was expected. Please change the shape of y to (n_samples, ), for example using ravel().\n",
            "  y = column_or_1d(y, warn=True)\n"
          ]
        },
        {
          "name": "stdout",
          "output_type": "stream",
          "text": [
            "F1 score:  [0.50236967 0.59090909 0.16513761 0.56164384 0.97142857 0.38709677\n",
            " 0.63507109]\n",
            "Confusion matrix: \n",
            "\n"
          ]
        },
        {
          "data": {
            "text/plain": [
              "<sklearn.metrics._plot.confusion_matrix.ConfusionMatrixDisplay at 0x7fc9c3e01710>"
            ]
          },
          "execution_count": 96,
          "metadata": {},
          "output_type": "execute_result"
        },
        {
          "data": {
            "image/png": "[encoded data removed]",
            "text/plain": [
              "<Figure size 432x288 with 2 Axes>"
            ]
          },
          "metadata": {
            "needs_background": "light"
          },
          "output_type": "display_data"
        }
      ],
      "source": [
        "from sklearn.svm import SVC\n",
        "clf = SVC(kernel='rbf')\n",
        "clf.fit(normalized_full_train, train_target_dc)\n",
        "\n",
        "predicted= clf.predict(normalized_full_test)\n",
        "\n",
        "print(\"F1 score: \", metrics.f1_score(test_target_dc,predicted,average=None))\n",
        "print(\"Confusion matrix: \\n\", )\n",
        "cm = metrics.confusion_matrix(test_target_acc, predicted)\n",
        "metrics.ConfusionMatrixDisplay(cm).plot()\n",
        "\n",
        "### Your code ends here ###"
      ]
    },
    {
      "cell_type": "markdown",
      "metadata": {
        "id": "7b6miUfTB7bp"
      },
      "source": [
        "## 3.3 Guassian Naive Bayes"
      ]
    },
    {
      "cell_type": "code",
      "execution_count": 98,
      "metadata": {
        "colab": {
          "base_uri": "https://localhost:8080/",
          "height": 366
        },
        "id": "hZQ4qT1j9xbS",
        "outputId": "ebe5045d-0568-4abc-876e-1a1f2b04936c"
      },
      "outputs": [
        {
          "name": "stdout",
          "output_type": "stream",
          "text": [
            "F1 score:  [0.55223881 0.41148325 0.16455696 0.57711443 0.94117647 0.58064516\n",
            " 0.46376812]\n",
            "Confusion matrix: \n",
            "\n"
          ]
        },
        {
          "data": {
            "text/plain": [
              "<sklearn.metrics._plot.confusion_matrix.ConfusionMatrixDisplay at 0x7fc9c3b2b4d0>"
            ]
          },
          "execution_count": 98,
          "metadata": {},
          "output_type": "execute_result"
        },
        {
          "data": {
            "image/png": "[encoded data removed]",
            "text/plain": [
              "<Figure size 432x288 with 2 Axes>"
            ]
          },
          "metadata": {
            "needs_background": "light"
          },
          "output_type": "display_data"
        }
      ],
      "source": [
        "from sklearn.naive_bayes import GaussianNB\n",
        "\n",
        "gnb = GaussianNB()\n",
        "gnb.fit(normalized_full_train, np.ravel(train_target_dc))\n",
        "\n",
        "predicted= gnb.predict(normalized_full_test)\n",
        "\n",
        "print(\"F1 score: \", metrics.f1_score(test_target_dc,predicted,average=None))\n",
        "print(\"Confusion matrix: \\n\", )\n",
        "cm = metrics.confusion_matrix(test_target_acc, predicted)\n",
        "metrics.ConfusionMatrixDisplay(cm).plot()\n",
        "\n"
      ]
    }
  ],
  "metadata": {
    "celltoolbar": "Create Assignment",
    "colab": {
      "collapsed_sections": [
        "DzMHvrOoJFfW"
      ],
      "name": "project.ipynb",
      "provenance": []
    },
    "kernelspec": {
      "display_name": "Python 3",
      "language": "python",
      "name": "python3"
    },
    "language_info": {
      "codemirror_mode": {
        "name": "ipython",
        "version": 3
      },
      "file_extension": ".py",
      "mimetype": "text/x-python",
      "name": "python",
      "nbconvert_exporter": "python",
      "pygments_lexer": "ipython3",
      "version": "3.8.3"
    },
    "varInspector": {
      "cols": {
        "lenName": 16,
        "lenType": 16,
        "lenVar": 40
      },
      "kernels_config": {
        "python": {
          "delete_cmd_postfix": "",
          "delete_cmd_prefix": "del ",
          "library": "var_list.py",
          "varRefreshCmd": "print(var_dic_list())"
        },
        "r": {
          "delete_cmd_postfix": ") ",
          "delete_cmd_prefix": "rm(",
          "library": "var_list.r",
          "varRefreshCmd": "cat(var_dic_list()) "
        }
      },
      "types_to_exclude": [
        "module",
        "function",
        "builtin_function_or_method",
        "instance",
        "_Feature"
      ],
      "window_display": false
    }
  },
  "nbformat": 4,
  "nbformat_minor": 0
}
